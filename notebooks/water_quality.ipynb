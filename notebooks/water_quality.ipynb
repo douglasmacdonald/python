{
 "cells": [
  {
   "cell_type": "markdown",
   "metadata": {},
   "source": [
    "* [Scotland's Aquaculture Map](http://aquaculture.scotland.gov.uk/map/map.aspx)\n",
    "* [Shellfish results](http://www.foodstandards.gov.scot/business-and-industry/industry-specific-advice/fish-and-shellfish/shellfish-results)\n",
    "* [Safety and harvesting](http://www.foodstandards.gov.scot/business-and-industry/industry-specific-advice/fish-and-shellfish)\n",
    "\n",
    "https://twitter.com/FSScotBiotoxins\n",
    "\n",
    "http://www.foodstandards.gov.scot/business-and-industry/industry-specific-advice/fish-and-shellfish\n",
    "\n",
    "http://aquaculture.scotland.gov.uk/data/site_details.aspx\n",
    "\n",
    "http://aquaculture.scotland.gov.uk/data/shellfish_species_area_classification.aspx\n",
    "\n",
    "http://aquaculture.scotland.gov.uk/data/phytoplankton_monitoring_samples.aspx"
   ]
  },
  {
   "cell_type": "code",
   "execution_count": 1,
   "metadata": {},
   "outputs": [],
   "source": [
    "%matplotlib inline\n",
    "\n",
    "import os\n",
    "import pandas as pd\n",
    "\n",
    "data_dir_path = os.path.join(os.path.expanduser('~'), 'Downloads')"
   ]
  },
  {
   "cell_type": "markdown",
   "metadata": {},
   "source": [
    "###### Local files directory"
   ]
  },
  {
   "cell_type": "code",
   "execution_count": 2,
   "metadata": {
    "scrolled": true
   },
   "outputs": [
    {
     "data": {
      "text/plain": [
       "['Shellfish_-_Phytoplankton_-_4_Weekly_Result_Report_-_2018_-_July_20.xlsx',\n",
       " 'BUS.ods',\n",
       " '220   Extracting Frequency Domain Features-KYKINCGwMWo.mp4',\n",
       " 'Shellfish_-_Biotoxin_-_4_Weekly_Result_Report_-_2018_-_July_20.xls',\n",
       " 'Shellfish_-_E._coli_-_Weekly_Result_Report_-_2018_-_July_20_.xls',\n",
       " 'crouton']"
      ]
     },
     "execution_count": 2,
     "metadata": {},
     "output_type": "execute_result"
    }
   ],
   "source": [
    "files_in_dir = os.listdir(data_dir_path)\n",
    "files_in_dir"
   ]
  },
  {
   "cell_type": "markdown",
   "metadata": {},
   "source": [
    "`['Shellfish_-_Phytoplankton_-_4_Weekly_Result_Report_-_2018_-_July_20.xlsx',\n",
    " 'BUS.ods',\n",
    " '220   Extracting Frequency Domain Features-KYKINCGwMWo.mp4',\n",
    " 'Shellfish_-_Biotoxin_-_4_Weekly_Result_Report_-_2018_-_July_20.xls',\n",
    " 'Shellfish_-_E._coli_-_Weekly_Result_Report_-_2018_-_July_20_.xls',\n",
    " 'crouton']`"
   ]
  },
  {
   "cell_type": "markdown",
   "metadata": {},
   "source": [
    "# `Shellfish_-_Phytoplankton_-_4_Weekly_Result_Report_-_2018_-_July_20.xlsx`"
   ]
  },
  {
   "cell_type": "markdown",
   "metadata": {},
   "source": [
    "## Campbeltown Loch  `Shellfish Phytoplankton 2018_-_July_20`\n",
    "\n",
    "Reference ..."
   ]
  },
  {
   "cell_type": "code",
   "execution_count": 4,
   "metadata": {},
   "outputs": [
    {
     "data": {
      "text/html": [
       "<div>\n",
       "<style scoped>\n",
       "    .dataframe tbody tr th:only-of-type {\n",
       "        vertical-align: middle;\n",
       "    }\n",
       "\n",
       "    .dataframe tbody tr th {\n",
       "        vertical-align: top;\n",
       "    }\n",
       "\n",
       "    .dataframe thead th {\n",
       "        text-align: right;\n",
       "    }\n",
       "</style>\n",
       "<table border=\"1\" class=\"dataframe\">\n",
       "  <thead>\n",
       "    <tr style=\"text-align: right;\">\n",
       "      <th></th>\n",
       "      <th>Pseudo-nitzschia\n",
       "Spp.\n",
       "(cells/l)\n",
       "[trigger:50,000]</th>\n",
       "      <th>Alexandrium\n",
       "Spp.\n",
       "(cells/l)\n",
       "[trigger:40]</th>\n",
       "      <th>Dinophysis\n",
       "Spp.\n",
       "(cells/l)\n",
       "[trigger:100]</th>\n",
       "      <th>Prorocentrum\n",
       "lima\n",
       "(cells/l)\n",
       "[trigger:100]</th>\n",
       "      <th>Prorocentrum\n",
       "cordatum\n",
       "(cells/l)\n",
       "(no trigger)</th>\n",
       "      <th>Lingulodinium\n",
       "polyedrum\n",
       "(cells/l)\n",
       "(no trigger)</th>\n",
       "      <th>Protoceratium\n",
       "reticulatum\n",
       "(cells/l)\n",
       "(no trigger)</th>\n",
       "    </tr>\n",
       "    <tr>\n",
       "      <th>Collected</th>\n",
       "      <th></th>\n",
       "      <th></th>\n",
       "      <th></th>\n",
       "      <th></th>\n",
       "      <th></th>\n",
       "      <th></th>\n",
       "      <th></th>\n",
       "    </tr>\n",
       "  </thead>\n",
       "  <tbody>\n",
       "    <tr>\n",
       "      <th>2018-06-26 08:00:00</th>\n",
       "      <td>4240</td>\n",
       "      <td>60</td>\n",
       "      <td>180</td>\n",
       "      <td>40</td>\n",
       "      <td>0</td>\n",
       "      <td>0</td>\n",
       "      <td>80</td>\n",
       "    </tr>\n",
       "    <tr>\n",
       "      <th>2018-07-02 08:10:00</th>\n",
       "      <td>2000</td>\n",
       "      <td>0</td>\n",
       "      <td>0</td>\n",
       "      <td>20</td>\n",
       "      <td>40</td>\n",
       "      <td>0</td>\n",
       "      <td>0</td>\n",
       "    </tr>\n",
       "    <tr>\n",
       "      <th>2018-07-09 08:00:00</th>\n",
       "      <td>980</td>\n",
       "      <td>0</td>\n",
       "      <td>0</td>\n",
       "      <td>0</td>\n",
       "      <td>0</td>\n",
       "      <td>0</td>\n",
       "      <td>0</td>\n",
       "    </tr>\n",
       "    <tr>\n",
       "      <th>2018-07-16 08:00:00</th>\n",
       "      <td>45228</td>\n",
       "      <td>20</td>\n",
       "      <td>40</td>\n",
       "      <td>0</td>\n",
       "      <td>360</td>\n",
       "      <td>0</td>\n",
       "      <td>0</td>\n",
       "    </tr>\n",
       "  </tbody>\n",
       "</table>\n",
       "</div>"
      ],
      "text/plain": [
       "                     Pseudo-nitzschia\\nSpp.\\n(cells/l)\\n[trigger:50,000]  \\\n",
       "Collected                                                                  \n",
       "2018-06-26 08:00:00                                               4240     \n",
       "2018-07-02 08:10:00                                               2000     \n",
       "2018-07-09 08:00:00                                                980     \n",
       "2018-07-16 08:00:00                                              45228     \n",
       "\n",
       "                     Alexandrium\\nSpp.\\n(cells/l)\\n[trigger:40]  \\\n",
       "Collected                                                         \n",
       "2018-06-26 08:00:00                                          60   \n",
       "2018-07-02 08:10:00                                           0   \n",
       "2018-07-09 08:00:00                                           0   \n",
       "2018-07-16 08:00:00                                          20   \n",
       "\n",
       "                     Dinophysis\\nSpp.\\n(cells/l)\\n[trigger:100]  \\\n",
       "Collected                                                         \n",
       "2018-06-26 08:00:00                                         180   \n",
       "2018-07-02 08:10:00                                           0   \n",
       "2018-07-09 08:00:00                                           0   \n",
       "2018-07-16 08:00:00                                          40   \n",
       "\n",
       "                     Prorocentrum\\nlima\\n(cells/l)\\n[trigger:100]  \\\n",
       "Collected                                                           \n",
       "2018-06-26 08:00:00                                            40   \n",
       "2018-07-02 08:10:00                                            20   \n",
       "2018-07-09 08:00:00                                             0   \n",
       "2018-07-16 08:00:00                                             0   \n",
       "\n",
       "                     Prorocentrum\\ncordatum\\n(cells/l)\\n(no trigger)  \\\n",
       "Collected                                                              \n",
       "2018-06-26 08:00:00                                                0   \n",
       "2018-07-02 08:10:00                                               40   \n",
       "2018-07-09 08:00:00                                                0   \n",
       "2018-07-16 08:00:00                                              360   \n",
       "\n",
       "                     Lingulodinium\\npolyedrum\\n(cells/l)\\n(no trigger)  \\\n",
       "Collected                                                                \n",
       "2018-06-26 08:00:00                                                  0   \n",
       "2018-07-02 08:10:00                                                  0   \n",
       "2018-07-09 08:00:00                                                  0   \n",
       "2018-07-16 08:00:00                                                  0   \n",
       "\n",
       "                     Protoceratium\\nreticulatum\\n(cells/l)\\n(no trigger)  \n",
       "Collected                                                                 \n",
       "2018-06-26 08:00:00                                                 80    \n",
       "2018-07-02 08:10:00                                                  0    \n",
       "2018-07-09 08:00:00                                                  0    \n",
       "2018-07-16 08:00:00                                                  0    "
      ]
     },
     "execution_count": 4,
     "metadata": {},
     "output_type": "execute_result"
    }
   ],
   "source": [
    "triggers = [50000, 40, 100, 100]\n",
    "\n",
    "# Load all Phytoplankton data\n",
    "pyhtoplankton_all = pd.read_excel(os.path.join(data_dir_path\n",
    "    , 'Shellfish_-_Phytoplankton_-_4_Weekly_Result_Report_-_2018_-_July_20.xlsx'))\n",
    "\n",
    "# Select Camobeltown Loch\n",
    "pyhtoplankton_ct = pyhtoplankton_all[pyhtoplankton_all['Area'] == \"Campbeltown Loch\"]\n",
    "\n",
    "# Getting rid of columns that are not interesting\n",
    "pyhtoplankton_ct = pyhtoplankton_ct.set_index('Collected').iloc[:,[9, 11, 13, 15, 17, 18, 19]]\n",
    "\n",
    "pyhtoplankton_ct"
   ]
  },
  {
   "cell_type": "code",
   "execution_count": 89,
   "metadata": {
    "scrolled": false
   },
   "outputs": [
    {
     "data": {
      "text/plain": [
       "Text(0.5,1,'Phytoplankton')"
      ]
     },
     "execution_count": 89,
     "metadata": {},
     "output_type": "execute_result"
    },
    {
     "data": {
      "image/png": "[encoded data removed]",
      "text/plain": [
       "<Figure size 1440x720 with 1 Axes>"
      ]
     },
     "metadata": {},
     "output_type": "display_data"
    }
   ],
   "source": [
    "ax = pyhtoplankton_ct.plot.bar(figsize=(20, 10), grid=True, logy=True, label=True)\n",
    "ax.legend(loc=0, fontsize=14)\n",
    "ax.set_title(label=\"Phytoplankton\", fontsize=20)"
   ]
  },
  {
   "cell_type": "code",
   "execution_count": null,
   "metadata": {},
   "outputs": [],
   "source": [
    "# Phytoplankton\n",
    "pyhtoplankton_ct_trig = pyhtoplankton_ct.iloc[:, 0:4]"
   ]
  },
  {
   "cell_type": "code",
   "execution_count": 90,
   "metadata": {
    "scrolled": false
   },
   "outputs": [
    {
     "data": {
      "text/plain": [
       "Text(0.5,1,'Phytoplankton\\nno trigger')"
      ]
     },
     "execution_count": 90,
     "metadata": {},
     "output_type": "execute_result"
    },
    {
     "data": {
      "image/png": "[encoded data removed]",
      "text/plain": [
       "<Figure size 1440x720 with 1 Axes>"
      ]
     },
     "metadata": {},
     "output_type": "display_data"
    }
   ],
   "source": [
    "ax = pyhtoplankton_ct_no_trig.plot.bar(figsize=(20, 10), grid=True, logy=True, ylim=(1, 1000))\n",
    "ax.set_title(label=\"Phytoplankton\\nno trigger\", fontsize=20)"
   ]
  },
  {
   "cell_type": "code",
   "execution_count": 32,
   "metadata": {},
   "outputs": [],
   "source": [
    "pyhtoplankton_ct_no_trig = pyhtoplankton_ct.iloc[:, 4:]\n",
    "pyhtoplankton_ct_trig_norm = pyhtoplankton_ct_trig / triggers"
   ]
  },
  {
   "cell_type": "code",
   "execution_count": 87,
   "metadata": {
    "scrolled": false
   },
   "outputs": [
    {
     "data": {
      "text/plain": [
       "<matplotlib.legend.Legend at 0x7d4f6c048be0>"
      ]
     },
     "execution_count": 87,
     "metadata": {},
     "output_type": "execute_result"
    },
    {
     "data": {
      "image/png": "[encoded data removed]",
      "text/plain": [
       "<Figure size 1440x720 with 1 Axes>"
      ]
     },
     "metadata": {},
     "output_type": "display_data"
    }
   ],
   "source": [
    "ax  = pyhtoplankton_ct_trig_norm.plot.bar(figsize=(20, 10)\n",
    "                                      , grid=True\n",
    "                                      , fontsize=20)\n",
    "\n",
    "ax.set_title(label=\"Phytoplankton\\nscaled by trigger\", fontsize=20)\n",
    "ax.legend(fontsize=20, loc=0)"
   ]
  },
  {
   "cell_type": "markdown",
   "metadata": {},
   "source": [
    "# `'Shellfish_-_E._coli_-_Weekly_Result_Report_-_2018_-_July_20_.xls'`"
   ]
  },
  {
   "cell_type": "code",
   "execution_count": 91,
   "metadata": {},
   "outputs": [],
   "source": [
    "e_coli_data = pd.read_excel(os.path.join(data_dir_path\n",
    "    , 'Shellfish_-_E._coli_-_Weekly_Result_Report_-_2018_-_July_20_.xls'))"
   ]
  },
  {
   "cell_type": "code",
   "execution_count": 92,
   "metadata": {},
   "outputs": [
    {
     "data": {
      "text/plain": [
       "Index(['Sample number', 'Site SIN Number', 'Local Authority',\n",
       "       'Production Area', 'Site Name', 'SIN', 'Sample For Fast Track',\n",
       "       'Sample Species', 'OS Grid Reference', 'Collection Date', 'Water Temp',\n",
       "       'Sample Source', 'Lab Received Date', 'Arrival Temp', 'Test Date',\n",
       "       'Ecoli/100g', 'Result Classification', 'Current Area Classification',\n",
       "       'UKAS No', 'Investigative/Resample', 'Date reported to FSA',\n",
       "       'Sample Rejected', 'Sample rejected reason', 'Improbable combination',\n",
       "       'Improbable combination value', 'Harvester's Own Results'],\n",
       "      dtype='object')"
      ]
     },
     "execution_count": 92,
     "metadata": {},
     "output_type": "execute_result"
    }
   ],
   "source": [
    "e_coli_data.columns"
   ]
  },
  {
   "cell_type": "code",
   "execution_count": 93,
   "metadata": {},
   "outputs": [
    {
     "data": {
      "text/plain": [
       "Sample number                                   18/1021\n",
       "Site SIN Number                          AB 617 1204 04\n",
       "Local Authority                 Argyll and Bute Council\n",
       "Production Area                           Loch na Cille\n",
       "Site Name                         Loch na Cille Cockles\n",
       "SIN                                      AB 617 1204 04\n",
       "Sample For Fast Track                             False\n",
       "Sample Species                           Common cockles\n",
       "OS Grid Reference                         NM84146 12537\n",
       "Collection Date                     2018-07-17 00:00:00\n",
       "Water Temp                                         16.9\n",
       "Sample Source                                hand raked\n",
       "Lab Received Date                   2018-07-18 00:00:00\n",
       "Arrival Temp                                        2.7\n",
       "Test Date                           2018-07-18 00:00:00\n",
       "Ecoli/100g                                        16000\n",
       "Result Classification                                 C\n",
       "Current Area Classification                           C\n",
       "UKAS No                                            2293\n",
       "Investigative/Resample                            False\n",
       "Date reported to FSA                2018-07-23 00:00:00\n",
       "Sample Rejected                                   False\n",
       "Sample rejected reason                              NaN\n",
       "Improbable combination                            False\n",
       "Improbable combination value                        NaN\n",
       "Harvester's Own Results                           False\n",
       "Name: 3, dtype: object"
      ]
     },
     "execution_count": 93,
     "metadata": {},
     "output_type": "execute_result"
    }
   ],
   "source": [
    "# There is only one row\n",
    "e_coli_data[e_coli_data['Production Area'] == 'Loch na Cille'].iloc[0]"
   ]
  },
  {
   "cell_type": "markdown",
   "metadata": {},
   "source": [
    "# 'Shellfish_-_Biotoxin_-_4_Weekly_Result_Report_-_2018_-_July_20.xls'\n",
    "\n",
    "[Biotoxins are substances which are both toxic and have a biological origin. ](http://www.biosciences-labs.bham.ac.uk/exhibit/whatare.html)"
   ]
  },
  {
   "cell_type": "code",
   "execution_count": 128,
   "metadata": {},
   "outputs": [],
   "source": [
    "biotoxin = pd.read_excel(os.path.join(data_dir_path\n",
    "    , 'Shellfish_-_Biotoxin_-_4_Weekly_Result_Report_-_2018_-_July_20.xls'))"
   ]
  },
  {
   "cell_type": "code",
   "execution_count": 130,
   "metadata": {},
   "outputs": [
    {
     "data": {
      "text/plain": [
       "Index(['Source of Sample', 'Local Authority', 'Production Area', 'Site Name',\n",
       "       'OSGridRef', 'SIN', 'Origin of Sample', 'Date Collected',\n",
       "       'Date Received', 'Species', 'PSPScreenbyHPLC_ND-DETECTED',\n",
       "       'PSP_HPLC (µg STXeq/kg) Semiquant result_<400-≥400',\n",
       "       'Date PSP HPLC Screen/semi quant result reported',\n",
       "       'PSP_HPLC (µg STXeq/kg) Quant_highvalue_result',\n",
       "       'Date PSP HPLC Quant result reported', 'PSP_by_MBA_(µg STXeq/kg)',\n",
       "       'Date PSP MBA result reported',\n",
       "       'Total OA/DTXs/PTXs (µg OA eq/kg) - HIGH value result',\n",
       "       'Total AZAs (µg AZA1 eq/kg) - HIGH value result',\n",
       "       'Total YTXs (mg YTX eq/kg) - HIGH value result',\n",
       "       'Date LC-MS result reported', 'DSP BY MBA_NG-PS',\n",
       "       'Date DSP BY MBA result reported', 'ASP\\n(mg /kg) ',\n",
       "       'Date ASP result reported', 'CEFAS Reference BTX/2014/',\n",
       "       'Temperature (Celsius) of sample on arrival'],\n",
       "      dtype='object')"
      ]
     },
     "execution_count": 130,
     "metadata": {},
     "output_type": "execute_result"
    }
   ],
   "source": [
    "biotoxin.columns"
   ]
  },
  {
   "cell_type": "code",
   "execution_count": 102,
   "metadata": {},
   "outputs": [],
   "source": [
    "biotoxin['Date Collected'] = pd.to_datetime(biotoxin['Date Collected']) \n",
    "biotoxin = biotoxin.set_index('Date Collected')"
   ]
  },
  {
   "cell_type": "code",
   "execution_count": 105,
   "metadata": {},
   "outputs": [],
   "source": [
    "biotoxin_ct = biotoxin[biotoxin['Production Area'] == 'Loch na Cille']"
   ]
  },
  {
   "cell_type": "code",
   "execution_count": 106,
   "metadata": {},
   "outputs": [
    {
     "data": {
      "text/html": [
       "<div>\n",
       "<style scoped>\n",
       "    .dataframe tbody tr th:only-of-type {\n",
       "        vertical-align: middle;\n",
       "    }\n",
       "\n",
       "    .dataframe tbody tr th {\n",
       "        vertical-align: top;\n",
       "    }\n",
       "\n",
       "    .dataframe thead th {\n",
       "        text-align: right;\n",
       "    }\n",
       "</style>\n",
       "<table border=\"1\" class=\"dataframe\">\n",
       "  <thead>\n",
       "    <tr style=\"text-align: right;\">\n",
       "      <th></th>\n",
       "      <th>Source of Sample</th>\n",
       "      <th>Local Authority</th>\n",
       "      <th>Production Area</th>\n",
       "      <th>Site Name</th>\n",
       "      <th>OSGridRef</th>\n",
       "      <th>SIN</th>\n",
       "      <th>Origin of Sample</th>\n",
       "      <th>Date Received</th>\n",
       "      <th>Species</th>\n",
       "      <th>PSPScreenbyHPLC_ND-DETECTED</th>\n",
       "      <th>...</th>\n",
       "      <th>Total OA/DTXs/PTXs (µg OA eq/kg) - HIGH value result</th>\n",
       "      <th>Total AZAs (µg AZA1 eq/kg) - HIGH value result</th>\n",
       "      <th>Total YTXs (mg YTX eq/kg) - HIGH value result</th>\n",
       "      <th>Date LC-MS result reported</th>\n",
       "      <th>DSP BY MBA_NG-PS</th>\n",
       "      <th>Date DSP BY MBA result reported</th>\n",
       "      <th>ASP\n",
       "(mg /kg)</th>\n",
       "      <th>Date ASP result reported</th>\n",
       "      <th>CEFAS Reference BTX/2014/</th>\n",
       "      <th>Temperature (Celsius) of sample on arrival</th>\n",
       "    </tr>\n",
       "    <tr>\n",
       "      <th>Date Collected</th>\n",
       "      <th></th>\n",
       "      <th></th>\n",
       "      <th></th>\n",
       "      <th></th>\n",
       "      <th></th>\n",
       "      <th></th>\n",
       "      <th></th>\n",
       "      <th></th>\n",
       "      <th></th>\n",
       "      <th></th>\n",
       "      <th></th>\n",
       "      <th></th>\n",
       "      <th></th>\n",
       "      <th></th>\n",
       "      <th></th>\n",
       "      <th></th>\n",
       "      <th></th>\n",
       "      <th></th>\n",
       "      <th></th>\n",
       "      <th></th>\n",
       "      <th></th>\n",
       "    </tr>\n",
       "  </thead>\n",
       "  <tbody>\n",
       "    <tr>\n",
       "      <th>2018-06-27</th>\n",
       "      <td>Classified Area</td>\n",
       "      <td>Argyll and Bute Council</td>\n",
       "      <td>Loch na Cille</td>\n",
       "      <td>Loch na Cille Cockles (Indicator)</td>\n",
       "      <td>NM8382312597</td>\n",
       "      <td>AB 617 1204 08</td>\n",
       "      <td>6</td>\n",
       "      <td>2018-06-28</td>\n",
       "      <td>Common mussels</td>\n",
       "      <td>Detected</td>\n",
       "      <td>...</td>\n",
       "      <td>92</td>\n",
       "      <td>&lt;RL</td>\n",
       "      <td>&lt;RL</td>\n",
       "      <td>2018-06-29</td>\n",
       "      <td>NaN</td>\n",
       "      <td>NaN</td>\n",
       "      <td>NaN</td>\n",
       "      <td>NaT</td>\n",
       "      <td>BTX/2018/1249</td>\n",
       "      <td>7.5</td>\n",
       "    </tr>\n",
       "    <tr>\n",
       "      <th>2018-07-02</th>\n",
       "      <td>Classified Area</td>\n",
       "      <td>Argyll and Bute Council</td>\n",
       "      <td>Loch na Cille</td>\n",
       "      <td>Loch na Cille Cockles (Indicator)</td>\n",
       "      <td>NM8382112588</td>\n",
       "      <td>AB 617 1204 08</td>\n",
       "      <td>6</td>\n",
       "      <td>2018-07-03</td>\n",
       "      <td>Common mussels</td>\n",
       "      <td>ND</td>\n",
       "      <td>...</td>\n",
       "      <td>60</td>\n",
       "      <td>&lt;RL</td>\n",
       "      <td>&lt;RL</td>\n",
       "      <td>2018-07-04</td>\n",
       "      <td>NaN</td>\n",
       "      <td>NaN</td>\n",
       "      <td>&lt;LOQ</td>\n",
       "      <td>2018-07-04</td>\n",
       "      <td>BTX/2018/1268</td>\n",
       "      <td>7.3</td>\n",
       "    </tr>\n",
       "    <tr>\n",
       "      <th>2018-07-11</th>\n",
       "      <td>Classified Area</td>\n",
       "      <td>Argyll and Bute Council</td>\n",
       "      <td>Loch na Cille</td>\n",
       "      <td>Loch na Cille Cockles (Indicator)</td>\n",
       "      <td>NM8381712589</td>\n",
       "      <td>AB 617 1204 08</td>\n",
       "      <td>6</td>\n",
       "      <td>2018-07-12</td>\n",
       "      <td>Common mussels</td>\n",
       "      <td>Detected</td>\n",
       "      <td>...</td>\n",
       "      <td>64</td>\n",
       "      <td>&lt;RL</td>\n",
       "      <td>0.1</td>\n",
       "      <td>2018-07-13</td>\n",
       "      <td>NaN</td>\n",
       "      <td>NaN</td>\n",
       "      <td>NaN</td>\n",
       "      <td>NaT</td>\n",
       "      <td>BTX/2018/1419</td>\n",
       "      <td>6.7</td>\n",
       "    </tr>\n",
       "    <tr>\n",
       "      <th>2018-07-17</th>\n",
       "      <td>Classified Area</td>\n",
       "      <td>Argyll and Bute Council</td>\n",
       "      <td>Loch na Cille</td>\n",
       "      <td>Loch na Cille Cockles (Indicator)</td>\n",
       "      <td>NM8382112589</td>\n",
       "      <td>AB 617 1204 08</td>\n",
       "      <td>6</td>\n",
       "      <td>2018-07-18</td>\n",
       "      <td>Common mussels</td>\n",
       "      <td>NaN</td>\n",
       "      <td>...</td>\n",
       "      <td>169</td>\n",
       "      <td>&lt;RL</td>\n",
       "      <td>1</td>\n",
       "      <td>2018-07-19</td>\n",
       "      <td>NaN</td>\n",
       "      <td>NaN</td>\n",
       "      <td>NaN</td>\n",
       "      <td>NaT</td>\n",
       "      <td>BTX/2018/1463</td>\n",
       "      <td>8.5</td>\n",
       "    </tr>\n",
       "  </tbody>\n",
       "</table>\n",
       "<p>4 rows × 26 columns</p>\n",
       "</div>"
      ],
      "text/plain": [
       "               Source of Sample          Local Authority Production Area  \\\n",
       "Date Collected                                                             \n",
       "2018-06-27      Classified Area  Argyll and Bute Council   Loch na Cille   \n",
       "2018-07-02      Classified Area  Argyll and Bute Council   Loch na Cille   \n",
       "2018-07-11      Classified Area  Argyll and Bute Council   Loch na Cille   \n",
       "2018-07-17      Classified Area  Argyll and Bute Council   Loch na Cille   \n",
       "\n",
       "                                        Site Name     OSGridRef  \\\n",
       "Date Collected                                                    \n",
       "2018-06-27      Loch na Cille Cockles (Indicator)  NM8382312597   \n",
       "2018-07-02      Loch na Cille Cockles (Indicator)  NM8382112588   \n",
       "2018-07-11      Loch na Cille Cockles (Indicator)  NM8381712589   \n",
       "2018-07-17      Loch na Cille Cockles (Indicator)  NM8382112589   \n",
       "\n",
       "                           SIN  Origin of Sample Date Received  \\\n",
       "Date Collected                                                   \n",
       "2018-06-27      AB 617 1204 08                 6    2018-06-28   \n",
       "2018-07-02      AB 617 1204 08                 6    2018-07-03   \n",
       "2018-07-11      AB 617 1204 08                 6    2018-07-12   \n",
       "2018-07-17      AB 617 1204 08                 6    2018-07-18   \n",
       "\n",
       "                       Species PSPScreenbyHPLC_ND-DETECTED  \\\n",
       "Date Collected                                               \n",
       "2018-06-27      Common mussels                    Detected   \n",
       "2018-07-02      Common mussels                          ND   \n",
       "2018-07-11      Common mussels                    Detected   \n",
       "2018-07-17      Common mussels                         NaN   \n",
       "\n",
       "                                  ...                      \\\n",
       "Date Collected                    ...                       \n",
       "2018-06-27                        ...                       \n",
       "2018-07-02                        ...                       \n",
       "2018-07-11                        ...                       \n",
       "2018-07-17                        ...                       \n",
       "\n",
       "               Total OA/DTXs/PTXs (µg OA eq/kg) - HIGH value result  \\\n",
       "Date Collected                                                        \n",
       "2018-06-27                                                     92     \n",
       "2018-07-02                                                     60     \n",
       "2018-07-11                                                     64     \n",
       "2018-07-17                                                    169     \n",
       "\n",
       "               Total AZAs (µg AZA1 eq/kg) - HIGH value result  \\\n",
       "Date Collected                                                  \n",
       "2018-06-27                                                <RL   \n",
       "2018-07-02                                                <RL   \n",
       "2018-07-11                                                <RL   \n",
       "2018-07-17                                                <RL   \n",
       "\n",
       "               Total YTXs (mg YTX eq/kg) - HIGH value result  \\\n",
       "Date Collected                                                 \n",
       "2018-06-27                                               <RL   \n",
       "2018-07-02                                               <RL   \n",
       "2018-07-11                                               0.1   \n",
       "2018-07-17                                                 1   \n",
       "\n",
       "               Date LC-MS result reported  DSP BY MBA_NG-PS  \\\n",
       "Date Collected                                                \n",
       "2018-06-27                     2018-06-29               NaN   \n",
       "2018-07-02                     2018-07-04               NaN   \n",
       "2018-07-11                     2018-07-13               NaN   \n",
       "2018-07-17                     2018-07-19               NaN   \n",
       "\n",
       "                Date DSP BY MBA result reported ASP\\n(mg /kg)   \\\n",
       "Date Collected                                                   \n",
       "2018-06-27                                  NaN            NaN   \n",
       "2018-07-02                                  NaN           <LOQ   \n",
       "2018-07-11                                  NaN            NaN   \n",
       "2018-07-17                                  NaN            NaN   \n",
       "\n",
       "               Date ASP result reported CEFAS Reference BTX/2014/  \\\n",
       "Date Collected                                                      \n",
       "2018-06-27                          NaT             BTX/2018/1249   \n",
       "2018-07-02                   2018-07-04             BTX/2018/1268   \n",
       "2018-07-11                          NaT             BTX/2018/1419   \n",
       "2018-07-17                          NaT             BTX/2018/1463   \n",
       "\n",
       "               Temperature (Celsius) of sample on arrival  \n",
       "Date Collected                                             \n",
       "2018-06-27                                            7.5  \n",
       "2018-07-02                                            7.3  \n",
       "2018-07-11                                            6.7  \n",
       "2018-07-17                                            8.5  \n",
       "\n",
       "[4 rows x 26 columns]"
      ]
     },
     "execution_count": 106,
     "metadata": {},
     "output_type": "execute_result"
    }
   ],
   "source": [
    "biotoxin_ct"
   ]
  },
  {
   "cell_type": "code",
   "execution_count": 107,
   "metadata": {},
   "outputs": [
    {
     "name": "stdout",
     "output_type": "stream",
     "text": [
      "Index(['Source of Sample', 'Local Authority', 'Production Area', 'Site Name',\n",
      "       'OSGridRef', 'SIN', 'Origin of Sample', 'Date Received', 'Species',\n",
      "       'PSPScreenbyHPLC_ND-DETECTED',\n",
      "       'PSP_HPLC (µg STXeq/kg) Semiquant result_<400-≥400',\n",
      "       'Date PSP HPLC Screen/semi quant result reported',\n",
      "       'PSP_HPLC (µg STXeq/kg) Quant_highvalue_result',\n",
      "       'Date PSP HPLC Quant result reported', 'PSP_by_MBA_(µg STXeq/kg)',\n",
      "       'Date PSP MBA result reported',\n",
      "       'Total OA/DTXs/PTXs (µg OA eq/kg) - HIGH value result',\n",
      "       'Total AZAs (µg AZA1 eq/kg) - HIGH value result',\n",
      "       'Total YTXs (mg YTX eq/kg) - HIGH value result',\n",
      "       'Date LC-MS result reported', 'DSP BY MBA_NG-PS',\n",
      "       'Date DSP BY MBA result reported', 'ASP\\n(mg /kg) ',\n",
      "       'Date ASP result reported', 'CEFAS Reference BTX/2014/',\n",
      "       'Temperature (Celsius) of sample on arrival'],\n",
      "      dtype='object')\n"
     ]
    }
   ],
   "source": [
    "print(biotoxin_ct.columns)"
   ]
  },
  {
   "cell_type": "code",
   "execution_count": 108,
   "metadata": {},
   "outputs": [
    {
     "data": {
      "text/plain": [
       "Date Collected\n",
       "2018-06-27    Common mussels\n",
       "2018-07-02    Common mussels\n",
       "2018-07-11    Common mussels\n",
       "2018-07-17    Common mussels\n",
       "Name: Species, dtype: object"
      ]
     },
     "execution_count": 108,
     "metadata": {},
     "output_type": "execute_result"
    }
   ],
   "source": [
    "biotoxin_ct['Species']"
   ]
  },
  {
   "cell_type": "code",
   "execution_count": 109,
   "metadata": {},
   "outputs": [
    {
     "data": {
      "text/plain": [
       "Date Collected\n",
       "2018-06-27    <400\n",
       "2018-07-02     NaN\n",
       "2018-07-11    <400\n",
       "2018-07-17     NaN\n",
       "Name: PSP_HPLC (µg STXeq/kg) Semiquant result_<400-≥400, dtype: object"
      ]
     },
     "execution_count": 109,
     "metadata": {},
     "output_type": "execute_result"
    }
   ],
   "source": [
    "biotoxin_ct['PSP_HPLC (µg STXeq/kg) Semiquant result_<400-≥400']"
   ]
  },
  {
   "cell_type": "code",
   "execution_count": 110,
   "metadata": {},
   "outputs": [
    {
     "data": {
      "text/plain": [
       "Date Collected\n",
       "2018-06-27    <RL\n",
       "2018-07-02    NaN\n",
       "2018-07-11    <RL\n",
       "2018-07-17    NaN\n",
       "Name: PSP_HPLC (µg STXeq/kg) Quant_highvalue_result, dtype: object"
      ]
     },
     "execution_count": 110,
     "metadata": {},
     "output_type": "execute_result"
    }
   ],
   "source": [
    "biotoxin_ct['PSP_HPLC (µg STXeq/kg) Quant_highvalue_result']"
   ]
  },
  {
   "cell_type": "code",
   "execution_count": 111,
   "metadata": {},
   "outputs": [
    {
     "data": {
      "text/plain": [
       "Date Collected\n",
       "2018-06-27    Common mussels\n",
       "2018-07-02    Common mussels\n",
       "2018-07-11    Common mussels\n",
       "2018-07-17    Common mussels\n",
       "Name: Species, dtype: object"
      ]
     },
     "execution_count": 111,
     "metadata": {},
     "output_type": "execute_result"
    }
   ],
   "source": [
    "biotoxin_ct.iloc[:, 8]"
   ]
  },
  {
   "cell_type": "code",
   "execution_count": 112,
   "metadata": {},
   "outputs": [
    {
     "data": {
      "text/plain": [
       "Date Collected\n",
       "2018-06-27    Detected\n",
       "2018-07-02          ND\n",
       "2018-07-11    Detected\n",
       "2018-07-17         NaN\n",
       "Name: PSPScreenbyHPLC_ND-DETECTED, dtype: object"
      ]
     },
     "execution_count": 112,
     "metadata": {},
     "output_type": "execute_result"
    }
   ],
   "source": [
    "biotoxin_ct.iloc[:, 9]"
   ]
  },
  {
   "cell_type": "code",
   "execution_count": 113,
   "metadata": {},
   "outputs": [
    {
     "data": {
      "text/plain": [
       "Date Collected\n",
       "2018-06-27    <400\n",
       "2018-07-02     NaN\n",
       "2018-07-11    <400\n",
       "2018-07-17     NaN\n",
       "Name: PSP_HPLC (µg STXeq/kg) Semiquant result_<400-≥400, dtype: object"
      ]
     },
     "execution_count": 113,
     "metadata": {},
     "output_type": "execute_result"
    }
   ],
   "source": [
    "biotoxin_ct.iloc[:, 10]"
   ]
  },
  {
   "cell_type": "code",
   "execution_count": 114,
   "metadata": {},
   "outputs": [
    {
     "data": {
      "text/plain": [
       "Date Collected\n",
       "2018-06-27    <RL\n",
       "2018-07-02    NaN\n",
       "2018-07-11    <RL\n",
       "2018-07-17    NaN\n",
       "Name: PSP_HPLC (µg STXeq/kg) Quant_highvalue_result, dtype: object"
      ]
     },
     "execution_count": 114,
     "metadata": {},
     "output_type": "execute_result"
    }
   ],
   "source": [
    "biotoxin_ct.iloc[:, 12]"
   ]
  },
  {
   "cell_type": "code",
   "execution_count": 115,
   "metadata": {},
   "outputs": [
    {
     "data": {
      "text/plain": [
       "Date Collected\n",
       "2018-06-27   NaN\n",
       "2018-07-02   NaN\n",
       "2018-07-11   NaN\n",
       "2018-07-17   NaN\n",
       "Name: PSP_by_MBA_(µg STXeq/kg), dtype: float64"
      ]
     },
     "execution_count": 115,
     "metadata": {},
     "output_type": "execute_result"
    }
   ],
   "source": [
    "biotoxin_ct.iloc[:, 14]"
   ]
  },
  {
   "cell_type": "code",
   "execution_count": 116,
   "metadata": {},
   "outputs": [
    {
     "data": {
      "text/plain": [
       "Date Collected\n",
       "2018-06-27     92\n",
       "2018-07-02     60\n",
       "2018-07-11     64\n",
       "2018-07-17    169\n",
       "Name: Total OA/DTXs/PTXs (µg OA eq/kg) - HIGH value result, dtype: object"
      ]
     },
     "execution_count": 116,
     "metadata": {},
     "output_type": "execute_result"
    }
   ],
   "source": [
    "biotoxin_ct.iloc[:, 16]"
   ]
  },
  {
   "cell_type": "code",
   "execution_count": 135,
   "metadata": {},
   "outputs": [
    {
     "data": {
      "text/plain": [
       "<matplotlib.axes._subplots.AxesSubplot at 0x7d4f67b74b38>"
      ]
     },
     "execution_count": 135,
     "metadata": {},
     "output_type": "execute_result"
    },
    {
     "data": {
      "image/png": "[encoded data removed]",
      "text/plain": [
       "<Figure size 1440x720 with 1 Axes>"
      ]
     },
     "metadata": {},
     "output_type": "display_data"
    }
   ],
   "source": [
    "pd.DataFrame(biotoxin_ct.iloc[:, 16]).plot.bar(figsize=(20, 10), grid=True)"
   ]
  },
  {
   "cell_type": "code",
   "execution_count": 131,
   "metadata": {},
   "outputs": [
    {
     "data": {
      "text/plain": [
       "Date Collected\n",
       "2018-06-27    <RL\n",
       "2018-07-02    <RL\n",
       "2018-07-11    <RL\n",
       "2018-07-17    <RL\n",
       "Name: Total AZAs (µg AZA1 eq/kg) - HIGH value result, dtype: object"
      ]
     },
     "execution_count": 131,
     "metadata": {},
     "output_type": "execute_result"
    }
   ],
   "source": [
    "biotoxin_ct.iloc[:, 17]"
   ]
  },
  {
   "cell_type": "code",
   "execution_count": 132,
   "metadata": {},
   "outputs": [
    {
     "data": {
      "text/plain": [
       "Date Collected\n",
       "2018-06-27    <RL\n",
       "2018-07-02    <RL\n",
       "2018-07-11    0.1\n",
       "2018-07-17      1\n",
       "Name: Total YTXs (mg YTX eq/kg) - HIGH value result, dtype: object"
      ]
     },
     "execution_count": 132,
     "metadata": {},
     "output_type": "execute_result"
    }
   ],
   "source": [
    "biotoxin_ct.iloc[:, 18]"
   ]
  },
  {
   "cell_type": "code",
   "execution_count": 134,
   "metadata": {},
   "outputs": [
    {
     "data": {
      "text/plain": [
       "Date Collected\n",
       "2018-06-27   NaN\n",
       "2018-07-02   NaN\n",
       "2018-07-11   NaN\n",
       "2018-07-17   NaN\n",
       "Name: DSP BY MBA_NG-PS, dtype: float64"
      ]
     },
     "execution_count": 134,
     "metadata": {},
     "output_type": "execute_result"
    }
   ],
   "source": [
    "biotoxin_ct.iloc[:, 20]"
   ]
  },
  {
   "cell_type": "code",
   "execution_count": 136,
   "metadata": {},
   "outputs": [
    {
     "data": {
      "text/plain": [
       "Date Collected\n",
       "2018-06-27     NaN\n",
       "2018-07-02    <LOQ\n",
       "2018-07-11     NaN\n",
       "2018-07-17     NaN\n",
       "Name: ASP\\n(mg /kg) , dtype: object"
      ]
     },
     "execution_count": 136,
     "metadata": {},
     "output_type": "execute_result"
    }
   ],
   "source": [
    "biotoxin_ct.iloc[:, 22]"
   ]
  },
  {
   "cell_type": "markdown",
   "metadata": {},
   "source": [
    "# Map\n",
    "\n",
    "http://geo.holoviews.org/Working_with_Bokeh.html\n",
    "\n",
    "https://scipython.com/book/chapter-2-the-core-python-language-i/additional-problems/converting-between-an-os-grid-reference-and-longitudelatitude/\n",
    "\n",
    "https://stackoverflow.com/questions/39117276/python-to-convert-map-reference-to-latitude-longitude\n",
    "\n",
    "http://www.bigendiandata.com/2017-06-27-Mapping_in_Jupyter/"
   ]
  },
  {
   "cell_type": "code",
   "execution_count": 7,
   "metadata": {},
   "outputs": [
    {
     "ename": "AttributeError",
     "evalue": "module 'numpy' has no attribute '__version__'",
     "output_type": "error",
     "traceback": [
      "\u001b[0;31m---------------------------------------------------------------------------\u001b[0m",
      "\u001b[0;31mAttributeError\u001b[0m                            Traceback (most recent call last)",
      "\u001b[0;32m<ipython-input-7-068a53782480>\u001b[0m in \u001b[0;36m<module>\u001b[0;34m()\u001b[0m\n\u001b[1;32m      1\u001b[0m \u001b[0;31m# http://geo.holoviews.org/Working_with_Bokeh.html\u001b[0m\u001b[0;34m\u001b[0m\u001b[0;34m\u001b[0m\u001b[0m\n\u001b[1;32m      2\u001b[0m \u001b[0;34m\u001b[0m\u001b[0m\n\u001b[0;32m----> 3\u001b[0;31m \u001b[0;32mimport\u001b[0m \u001b[0mxarray\u001b[0m \u001b[0;32mas\u001b[0m \u001b[0mxr\u001b[0m\u001b[0;34m\u001b[0m\u001b[0m\n\u001b[0m\u001b[1;32m      4\u001b[0m \u001b[0;32mimport\u001b[0m \u001b[0mnumpy\u001b[0m \u001b[0;32mas\u001b[0m \u001b[0mnp\u001b[0m\u001b[0;34m\u001b[0m\u001b[0m\n\u001b[1;32m      5\u001b[0m \u001b[0;32mimport\u001b[0m \u001b[0mpandas\u001b[0m \u001b[0;32mas\u001b[0m \u001b[0mpd\u001b[0m\u001b[0;34m\u001b[0m\u001b[0m\n",
      "\u001b[0;32m~/miniconda3/lib/python3.6/site-packages/xarray/__init__.py\u001b[0m in \u001b[0;36m<module>\u001b[0;34m()\u001b[0m\n\u001b[1;32m      8\u001b[0m \u001b[0;32mdel\u001b[0m \u001b[0mget_versions\u001b[0m\u001b[0;34m\u001b[0m\u001b[0m\n\u001b[1;32m      9\u001b[0m \u001b[0;34m\u001b[0m\u001b[0m\n\u001b[0;32m---> 10\u001b[0;31m \u001b[0;32mfrom\u001b[0m \u001b[0;34m.\u001b[0m\u001b[0mcore\u001b[0m\u001b[0;34m.\u001b[0m\u001b[0malignment\u001b[0m \u001b[0;32mimport\u001b[0m \u001b[0malign\u001b[0m\u001b[0;34m,\u001b[0m \u001b[0mbroadcast\u001b[0m\u001b[0;34m,\u001b[0m \u001b[0mbroadcast_arrays\u001b[0m\u001b[0;34m\u001b[0m\u001b[0m\n\u001b[0m\u001b[1;32m     11\u001b[0m \u001b[0;32mfrom\u001b[0m \u001b[0;34m.\u001b[0m\u001b[0mcore\u001b[0m\u001b[0;34m.\u001b[0m\u001b[0mcommon\u001b[0m \u001b[0;32mimport\u001b[0m \u001b[0mfull_like\u001b[0m\u001b[0;34m,\u001b[0m \u001b[0mzeros_like\u001b[0m\u001b[0;34m,\u001b[0m \u001b[0mones_like\u001b[0m\u001b[0;34m\u001b[0m\u001b[0m\n\u001b[1;32m     12\u001b[0m \u001b[0;32mfrom\u001b[0m \u001b[0;34m.\u001b[0m\u001b[0mcore\u001b[0m\u001b[0;34m.\u001b[0m\u001b[0mcombine\u001b[0m \u001b[0;32mimport\u001b[0m \u001b[0mconcat\u001b[0m\u001b[0;34m,\u001b[0m \u001b[0mauto_combine\u001b[0m\u001b[0;34m\u001b[0m\u001b[0m\n",
      "\u001b[0;32m~/miniconda3/lib/python3.6/site-packages/xarray/core/alignment.py\u001b[0m in \u001b[0;36m<module>\u001b[0;34m()\u001b[0m\n\u001b[1;32m      8\u001b[0m \u001b[0;32mimport\u001b[0m \u001b[0mnumpy\u001b[0m \u001b[0;32mas\u001b[0m \u001b[0mnp\u001b[0m\u001b[0;34m\u001b[0m\u001b[0m\n\u001b[1;32m      9\u001b[0m \u001b[0;34m\u001b[0m\u001b[0m\n\u001b[0;32m---> 10\u001b[0;31m \u001b[0;32mfrom\u001b[0m \u001b[0;34m.\u001b[0m \u001b[0;32mimport\u001b[0m \u001b[0mutils\u001b[0m\u001b[0;34m\u001b[0m\u001b[0m\n\u001b[0m\u001b[1;32m     11\u001b[0m \u001b[0;32mfrom\u001b[0m \u001b[0;34m.\u001b[0m\u001b[0mindexing\u001b[0m \u001b[0;32mimport\u001b[0m \u001b[0mget_indexer_nd\u001b[0m\u001b[0;34m\u001b[0m\u001b[0m\n\u001b[1;32m     12\u001b[0m \u001b[0;32mfrom\u001b[0m \u001b[0;34m.\u001b[0m\u001b[0mpycompat\u001b[0m \u001b[0;32mimport\u001b[0m \u001b[0mOrderedDict\u001b[0m\u001b[0;34m,\u001b[0m \u001b[0miteritems\u001b[0m\u001b[0;34m,\u001b[0m \u001b[0msuppress\u001b[0m\u001b[0;34m\u001b[0m\u001b[0m\n",
      "\u001b[0;32m~/miniconda3/lib/python3.6/site-packages/xarray/core/utils.py\u001b[0m in \u001b[0;36m<module>\u001b[0;34m()\u001b[0m\n\u001b[1;32m     11\u001b[0m \u001b[0;34m\u001b[0m\u001b[0m\n\u001b[1;32m     12\u001b[0m \u001b[0;32mimport\u001b[0m \u001b[0mnumpy\u001b[0m \u001b[0;32mas\u001b[0m \u001b[0mnp\u001b[0m\u001b[0;34m\u001b[0m\u001b[0m\n\u001b[0;32m---> 13\u001b[0;31m \u001b[0;32mimport\u001b[0m \u001b[0mpandas\u001b[0m \u001b[0;32mas\u001b[0m \u001b[0mpd\u001b[0m\u001b[0;34m\u001b[0m\u001b[0m\n\u001b[0m\u001b[1;32m     14\u001b[0m \u001b[0;34m\u001b[0m\u001b[0m\n\u001b[1;32m     15\u001b[0m \u001b[0;32mfrom\u001b[0m \u001b[0;34m.\u001b[0m\u001b[0moptions\u001b[0m \u001b[0;32mimport\u001b[0m \u001b[0mOPTIONS\u001b[0m\u001b[0;34m\u001b[0m\u001b[0m\n",
      "\u001b[0;32m~/miniconda3/lib/python3.6/site-packages/pandas/__init__.py\u001b[0m in \u001b[0;36m<module>\u001b[0;34m()\u001b[0m\n\u001b[1;32m     21\u001b[0m \u001b[0;34m\u001b[0m\u001b[0m\n\u001b[1;32m     22\u001b[0m \u001b[0;31m# numpy compat\u001b[0m\u001b[0;34m\u001b[0m\u001b[0;34m\u001b[0m\u001b[0m\n\u001b[0;32m---> 23\u001b[0;31m \u001b[0;32mfrom\u001b[0m \u001b[0mpandas\u001b[0m\u001b[0;34m.\u001b[0m\u001b[0mcompat\u001b[0m\u001b[0;34m.\u001b[0m\u001b[0mnumpy\u001b[0m \u001b[0;32mimport\u001b[0m \u001b[0;34m*\u001b[0m\u001b[0;34m\u001b[0m\u001b[0m\n\u001b[0m\u001b[1;32m     24\u001b[0m \u001b[0;34m\u001b[0m\u001b[0m\n\u001b[1;32m     25\u001b[0m \u001b[0;32mtry\u001b[0m\u001b[0;34m:\u001b[0m\u001b[0;34m\u001b[0m\u001b[0m\n",
      "\u001b[0;32m~/miniconda3/lib/python3.6/site-packages/pandas/compat/numpy/__init__.py\u001b[0m in \u001b[0;36m<module>\u001b[0;34m()\u001b[0m\n\u001b[1;32m      8\u001b[0m \u001b[0;34m\u001b[0m\u001b[0m\n\u001b[1;32m      9\u001b[0m \u001b[0;31m# numpy versioning\u001b[0m\u001b[0;34m\u001b[0m\u001b[0;34m\u001b[0m\u001b[0m\n\u001b[0;32m---> 10\u001b[0;31m \u001b[0m_np_version\u001b[0m \u001b[0;34m=\u001b[0m \u001b[0mnp\u001b[0m\u001b[0;34m.\u001b[0m\u001b[0m__version__\u001b[0m\u001b[0;34m\u001b[0m\u001b[0m\n\u001b[0m\u001b[1;32m     11\u001b[0m \u001b[0m_nlv\u001b[0m \u001b[0;34m=\u001b[0m \u001b[0mLooseVersion\u001b[0m\u001b[0;34m(\u001b[0m\u001b[0m_np_version\u001b[0m\u001b[0;34m)\u001b[0m\u001b[0;34m\u001b[0m\u001b[0m\n\u001b[1;32m     12\u001b[0m \u001b[0m_np_version_under1p10\u001b[0m \u001b[0;34m=\u001b[0m \u001b[0m_nlv\u001b[0m \u001b[0;34m<\u001b[0m \u001b[0mLooseVersion\u001b[0m\u001b[0;34m(\u001b[0m\u001b[0;34m'1.10'\u001b[0m\u001b[0;34m)\u001b[0m\u001b[0;34m\u001b[0m\u001b[0m\n",
      "\u001b[0;31mAttributeError\u001b[0m: module 'numpy' has no attribute '__version__'"
     ]
    }
   ],
   "source": [
    "# http://geo.holoviews.org/Working_with_Bokeh.html\n",
    "\n",
    "import xarray as xr\n",
    "import numpy as np\n",
    "import pandas as pd\n",
    "import holoviews as hv\n",
    "import geoviews as gv\n",
    "import geoviews.feature as gf\n",
    "\n",
    "import cartopy\n",
    "from cartopy import crs as ccrs\n",
    "\n",
    "from bokeh.tile_providers import STAMEN_TONER\n",
    "from bokeh.models import WMTSTileSource\n",
    "\n",
    "hv.notebook_extension('bokeh')"
   ]
  },
  {
   "cell_type": "code",
   "execution_count": null,
   "metadata": {},
   "outputs": [],
   "source": []
  }
 ],
 "metadata": {
  "kernelspec": {
   "display_name": "Python [conda env:miniconda3]",
   "language": "python",
   "name": "conda-env-miniconda3-py"
  },
  "language_info": {
   "codemirror_mode": {
    "name": "ipython",
    "version": 3
   },
   "file_extension": ".py",
   "mimetype": "text/x-python",
   "name": "python",
   "nbconvert_exporter": "python",
   "pygments_lexer": "ipython3",
   "version": "3.6.5"
  }
 },
 "nbformat": 4,
 "nbformat_minor": 2
}
