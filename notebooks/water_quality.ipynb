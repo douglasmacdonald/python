{
 "cells": [
  {
   "cell_type": "markdown",
   "metadata": {},
   "source": [
    "* [Scotland's Aquaculture Map](http://aquaculture.scotland.gov.uk/map/map.aspx)\n",
    "* [Shellfish results](http://www.foodstandards.gov.scot/business-and-industry/industry-specific-advice/fish-and-shellfish/shellfish-results)\n",
    "* [Safety and harvesting](http://www.foodstandards.gov.scot/business-and-industry/industry-specific-advice/fish-and-shellfish)\n",
    "\n",
    "https://twitter.com/FSScotBiotoxins\n",
    "\n",
    "http://www.foodstandards.gov.scot/business-and-industry/industry-specific-advice/fish-and-shellfish\n",
    "\n",
    "http://aquaculture.scotland.gov.uk/data/site_details.aspx\n",
    "\n",
    "http://aquaculture.scotland.gov.uk/data/shellfish_species_area_classification.aspx\n",
    "\n",
    "http://aquaculture.scotland.gov.uk/data/phytoplankton_monitoring_samples.aspx"
   ]
  },
  {
   "cell_type": "markdown",
   "metadata": {},
   "source": [
    "\n"
   ]
  },
  {
   "cell_type": "code",
   "execution_count": 47,
   "metadata": {},
   "outputs": [],
   "source": [
    "%matplotlib inline\n",
    "\n",
    "\n",
    "import os\n",
    "import requests\n",
    "import pandas as pd\n",
    "import dask.dataframe as dd\n",
    "\n",
    "data_dir_path = os.path.join(os.path.expanduser('~'), 'Downloads')"
   ]
  },
  {
   "cell_type": "markdown",
   "metadata": {},
   "source": [
    "# Download files\n",
    "\n",
    "http://www.foodstandards.gov.scot/publications-and-research/publications/shellfish-results-week-ending-03-august-2018\n",
    "\n",
    "http://docs.python-requests.org/en/master/"
   ]
  },
  {
   "cell_type": "code",
   "execution_count": 37,
   "metadata": {},
   "outputs": [
    {
     "ename": "NameError",
     "evalue": "name 'url' is not defined",
     "output_type": "error",
     "traceback": [
      "\u001b[0;31m---------------------------------------------------------------------------\u001b[0m",
      "\u001b[0;31mNameError\u001b[0m                                 Traceback (most recent call last)",
      "\u001b[0;32m<ipython-input-37-6f4f669a03a4>\u001b[0m in \u001b[0;36m<module>\u001b[0;34m()\u001b[0m\n\u001b[1;32m     10\u001b[0m \u001b[0;31m#filename = 'Shellfish_-_Biotoxin_-_4_Weekly_Result_Report_-_2018_-_August_03.xls'\u001b[0m\u001b[0;34m\u001b[0m\u001b[0;34m\u001b[0m\u001b[0m\n\u001b[1;32m     11\u001b[0m \u001b[0;34m\u001b[0m\u001b[0m\n\u001b[0;32m---> 12\u001b[0;31m \u001b[0mr\u001b[0m \u001b[0;34m=\u001b[0m \u001b[0mrequests\u001b[0m\u001b[0;34m.\u001b[0m\u001b[0mget\u001b[0m\u001b[0;34m(\u001b[0m\u001b[0murl\u001b[0m\u001b[0;34m,\u001b[0m \u001b[0mstream\u001b[0m\u001b[0;34m=\u001b[0m\u001b[0;32mTrue\u001b[0m\u001b[0;34m)\u001b[0m\u001b[0;34m\u001b[0m\u001b[0m\n\u001b[0m\u001b[1;32m     13\u001b[0m \u001b[0;34m\u001b[0m\u001b[0m\n\u001b[1;32m     14\u001b[0m \u001b[0;32mif\u001b[0m \u001b[0mr\u001b[0m\u001b[0;34m.\u001b[0m\u001b[0mstatus_code\u001b[0m \u001b[0;34m==\u001b[0m \u001b[0;36m200\u001b[0m\u001b[0;34m:\u001b[0m\u001b[0;34m\u001b[0m\u001b[0m\n",
      "\u001b[0;31mNameError\u001b[0m: name 'url' is not defined"
     ]
    }
   ],
   "source": [
    "\n",
    "# url = 'http://www.foodstandards.gov.scot/publications-and-research/publications/shellfish-results-week-ending-03-august-2018'\n",
    "\n",
    "\n",
    "urls = 'http://www.foodstandards.gov.scot/downloads/Shellfish_-_Biotoxin_-_4_Weekly_Result_Report_-_2018_-_August_03.xls'\n",
    "# 'http://www.foodstandards.gov.scot/downloads/Shellfish_-_Phytoplankton_-_4_Weekly_Result_Report_-_2018_-_August_03.xlsx'\n",
    "# 'http://www.foodstandards.gov.scot/downloads/Shellfish_-_E._coli_-_Weekly_Result_Report_-_2018_-_August_03_.xls'\n",
    "\n",
    "\n",
    "#filename = 'Shellfish_-_Biotoxin_-_4_Weekly_Result_Report_-_2018_-_August_03.xls'\n",
    "\n",
    "r = requests.get(url, stream=True)\n",
    "\n",
    "if r.status_code == 200:\n",
    "    with open(filename, 'wb') as f:\n",
    "        f.write(r.content)"
   ]
  },
  {
   "cell_type": "markdown",
   "metadata": {},
   "source": [
    "# Local filenames"
   ]
  },
  {
   "cell_type": "code",
   "execution_count": 22,
   "metadata": {},
   "outputs": [],
   "source": [
    "filesnames_all = os.listdir('/home/doudlas/Downloads/')"
   ]
  },
  {
   "cell_type": "code",
   "execution_count": 23,
   "metadata": {},
   "outputs": [],
   "source": [
    "filesnames_shellfish = [f for f in filesnames_all if f.startswith('Shellfish')]"
   ]
  },
  {
   "cell_type": "code",
   "execution_count": 24,
   "metadata": {},
   "outputs": [
    {
     "data": {
      "text/plain": [
       "['Shellfish_-_Phytoplankton_-_4_Weekly_Result_Report_-_2018_-_July_20.xlsx',\n",
       " 'Shellfish_-_E._coli_-_Weekly_Result_Report_-_2018_-_August_03_.xls',\n",
       " 'Shellfish_-_Phytoplankton_-_4_Weekly_Result_Report_-_2018_-_August_03.xlsx',\n",
       " 'Shellfish_-_Biotoxin_-_4_Weekly_Result_Report_-_2018_-_July_20.xls',\n",
       " 'Shellfish_-_E._coli_-_Weekly_Result_Report_-_2018_-_July_20_.xls',\n",
       " 'Shellfish_-_Biotoxin_-_4_Weekly_Result_Report_-_2018_-_August_03.xls']"
      ]
     },
     "execution_count": 24,
     "metadata": {},
     "output_type": "execute_result"
    }
   ],
   "source": [
    "filesnames_shellfish"
   ]
  },
  {
   "cell_type": "code",
   "execution_count": 28,
   "metadata": {},
   "outputs": [],
   "source": [
    "filenames_shellfish_phytoplankton = [f for f in filesnames_shellfish if f.startswith('Shellfish_-_Phytoplankton_')]"
   ]
  },
  {
   "cell_type": "code",
   "execution_count": 29,
   "metadata": {},
   "outputs": [
    {
     "data": {
      "text/plain": [
       "['Shellfish_-_Phytoplankton_-_4_Weekly_Result_Report_-_2018_-_July_20.xlsx',\n",
       " 'Shellfish_-_Phytoplankton_-_4_Weekly_Result_Report_-_2018_-_August_03.xlsx']"
      ]
     },
     "execution_count": 29,
     "metadata": {},
     "output_type": "execute_result"
    }
   ],
   "source": [
    "filenames_shellfish_phytoplankton"
   ]
  },
  {
   "cell_type": "code",
   "execution_count": 30,
   "metadata": {},
   "outputs": [],
   "source": [
    "filenames_shellfish_e_coli = [f for f in filesnames_shellfish if f.startswith('Shellfish_-_E._coli_')]"
   ]
  },
  {
   "cell_type": "code",
   "execution_count": 31,
   "metadata": {
    "scrolled": true
   },
   "outputs": [
    {
     "data": {
      "text/plain": [
       "['Shellfish_-_E._coli_-_Weekly_Result_Report_-_2018_-_August_03_.xls',\n",
       " 'Shellfish_-_E._coli_-_Weekly_Result_Report_-_2018_-_July_20_.xls']"
      ]
     },
     "execution_count": 31,
     "metadata": {},
     "output_type": "execute_result"
    }
   ],
   "source": [
    "filenames_shellfish_e_coli"
   ]
  },
  {
   "cell_type": "code",
   "execution_count": 33,
   "metadata": {},
   "outputs": [],
   "source": [
    "filenames_shellfish_biotoxin = [f for f in filesnames_shellfish if f.startswith('Shellfish_-_Biotoxin_')]"
   ]
  },
  {
   "cell_type": "code",
   "execution_count": 34,
   "metadata": {},
   "outputs": [
    {
     "data": {
      "text/plain": [
       "['Shellfish_-_Biotoxin_-_4_Weekly_Result_Report_-_2018_-_July_20.xls',\n",
       " 'Shellfish_-_Biotoxin_-_4_Weekly_Result_Report_-_2018_-_August_03.xls']"
      ]
     },
     "execution_count": 34,
     "metadata": {},
     "output_type": "execute_result"
    }
   ],
   "source": [
    "filenames_shellfish_biotoxin"
   ]
  },
  {
   "cell_type": "markdown",
   "metadata": {},
   "source": [
    "# ~~`Shellfish_-_Phytoplankton_-_4_Weekly_Result_Report_-_2018_-_July_20.xlsx`~~"
   ]
  },
  {
   "cell_type": "markdown",
   "metadata": {},
   "source": [
    "## Campbeltown Loch  ~~`Shellfish Phytoplankton 2018_-_July_20`~~"
   ]
  },
  {
   "cell_type": "markdown",
   "metadata": {},
   "source": [
    "# `Shellfish_-_Phytoplankton_-_4_Weekly_Result_Report_-_2018_-_August_03.xlsx`"
   ]
  },
  {
   "cell_type": "code",
   "execution_count": 39,
   "metadata": {
    "scrolled": true
   },
   "outputs": [
    {
     "data": {
      "text/plain": [
       "['Shellfish_-_Phytoplankton_-_4_Weekly_Result_Report_-_2018_-_July_20.xlsx',\n",
       " 'Shellfish_-_Phytoplankton_-_4_Weekly_Result_Report_-_2018_-_August_03.xlsx']"
      ]
     },
     "execution_count": 39,
     "metadata": {},
     "output_type": "execute_result"
    }
   ],
   "source": [
    "filenames_shellfish_phytoplankton"
   ]
  },
  {
   "cell_type": "code",
   "execution_count": 99,
   "metadata": {},
   "outputs": [
    {
     "name": "stderr",
     "output_type": "stream",
     "text": [
      "/home/doudlas/miniconda3/lib/python3.6/site-packages/ipykernel/__main__.py:4: FutureWarning: Sorting because non-concatenation axis is not aligned. A future version\n",
      "of pandas will change to not sort by default.\n",
      "\n",
      "To accept the future behavior, pass 'sort=False'.\n",
      "\n",
      "To retain the current behavior and silence the warning, pass 'sort=True'.\n",
      "\n"
     ]
    }
   ],
   "source": [
    "pyhtoplankton_ct_list = []\n",
    "for f in filenames_shellfish_phytoplankton:\n",
    "    pyhtoplankton_ct_list.append(pd.read_excel(os.path.join(data_dir_path, f)))\n",
    "pyhtoplankton_all = pd.concat(pyhtoplankton_ct_list)"
   ]
  },
  {
   "cell_type": "code",
   "execution_count": 130,
   "metadata": {
    "scrolled": false
   },
   "outputs": [],
   "source": [
    "f = 'Shellfish_-_Phytoplankton_-_4_Weekly_Result_Report_-_2018_-_August_03.xlsx'\n",
    "header = ['Region', 'Area', 'Site', 'Origin of Sample', 'NGR', 'SIN', 'Sample', 'Collected', 'Received', 'Analyzed', 'Pseudo-nitzschia', 'Alexandrium', 'Dinophysis', 'Prorocentrum', 'Prorocentrum', 'Lingulodinium', 'Protoceratium']\n",
    "phytoplankton_august = pd.read_excel(os.path.join(data_dir_path, f), header=None, skiprows=[0, 1, 2, 3])\n",
    "phytoplankton_august.columns = header\n",
    "phytoplankton_august.Region.fillna(method='ffill', inplace=True)"
   ]
  },
  {
   "cell_type": "code",
   "execution_count": 42,
   "metadata": {
    "scrolled": false
   },
   "outputs": [
    {
     "data": {
      "text/plain": [
       "Text(0.5,1,'Phytoplankton')"
      ]
     },
     "execution_count": 42,
     "metadata": {},
     "output_type": "execute_result"
    },
    {
     "data": {
      "image/png": "[encoded data removed]",
      "text/plain": [
       "<Figure size 1440x720 with 1 Axes>"
      ]
     },
     "metadata": {},
     "output_type": "display_data"
    }
   ],
   "source": [
    "ax = pyhtoplankton_ct.plot.bar(figsize=(20, 10), grid=True, logy=True, label=True)\n",
    "ax.legend(loc=0, fontsize=14)\n",
    "ax.set_title(label=\"Phytoplankton\", fontsize=20)"
   ]
  },
  {
   "cell_type": "code",
   "execution_count": null,
   "metadata": {},
   "outputs": [],
   "source": [
    "# Phytoplankton\n",
    "pyhtoplankton_ct_trig = pyhtoplankton_ct.iloc[:, 0:4]"
   ]
  },
  {
   "cell_type": "code",
   "execution_count": 90,
   "metadata": {
    "scrolled": false
   },
   "outputs": [
    {
     "data": {
      "text/plain": [
       "Text(0.5,1,'Phytoplankton\\nno trigger')"
      ]
     },
     "execution_count": 90,
     "metadata": {},
     "output_type": "execute_result"
    },
    {
     "data": {
      "image/png": "[encoded data removed]",
      "text/plain": [
       "<Figure size 1440x720 with 1 Axes>"
      ]
     },
     "metadata": {},
     "output_type": "display_data"
    }
   ],
   "source": [
    "ax = pyhtoplankton_ct_no_trig.plot.bar(figsize=(20, 10), grid=True, logy=True, ylim=(1, 1000))\n",
    "ax.set_title(label=\"Phytoplankton\\nno trigger\", fontsize=20)"
   ]
  },
  {
   "cell_type": "code",
   "execution_count": 32,
   "metadata": {},
   "outputs": [],
   "source": [
    "pyhtoplankton_ct_no_trig = pyhtoplankton_ct.iloc[:, 4:]\n",
    "pyhtoplankton_ct_trig_norm = pyhtoplankton_ct_trig / triggers"
   ]
  },
  {
   "cell_type": "code",
   "execution_count": 87,
   "metadata": {
    "scrolled": false
   },
   "outputs": [
    {
     "data": {
      "text/plain": [
       "<matplotlib.legend.Legend at 0x7d4f6c048be0>"
      ]
     },
     "execution_count": 87,
     "metadata": {},
     "output_type": "execute_result"
    },
    {
     "data": {
      "image/png": "[encoded data removed]",
      "text/plain": [
       "<Figure size 1440x720 with 1 Axes>"
      ]
     },
     "metadata": {},
     "output_type": "display_data"
    }
   ],
   "source": [
    "ax  = pyhtoplankton_ct_trig_norm.plot.bar(figsize=(20, 10)\n",
    "                                      , grid=True\n",
    "                                      , fontsize=20)\n",
    "\n",
    "ax.set_title(label=\"Phytoplankton\\nscaled by trigger\", fontsize=20)\n",
    "ax.legend(fontsize=20, loc=0)"
   ]
  },
  {
   "cell_type": "code",
   "execution_count": null,
   "metadata": {},
   "outputs": [],
   "source": []
  },
  {
   "cell_type": "markdown",
   "metadata": {},
   "source": [
    "# E. Coli\n",
    "# ~~`'Shellfish_-_E._coli_-_Weekly_Result_Report_-_2018_-_July_20_.xls'`~~"
   ]
  },
  {
   "cell_type": "code",
   "execution_count": 62,
   "metadata": {},
   "outputs": [],
   "source": [
    "e_coli_list = []\n",
    "for f in filenames_shellfish_e_coli:\n",
    "    e_coli_list.append(\n",
    "        pd.read_excel(os.path.join(data_dir_path\n",
    "    , f))\n",
    "    )\n",
    "\n",
    "e_coli_data = pd.concat(e_coli_list)"
   ]
  },
  {
   "cell_type": "code",
   "execution_count": 63,
   "metadata": {},
   "outputs": [],
   "source": [
    "#e_coli_data = pd.read_excel(os.path.join(data_dir_path\n",
    "#    , 'Shellfish_-_E._coli_-_Weekly_Result_Report_-_2018_-_July_20_.xls'))\n",
    "\n",
    "#e_coli_data = pd.read_excel(os.path.join(data_dir_path\n",
    "#    , filenames_shellfish_e_coli[1]))"
   ]
  },
  {
   "cell_type": "code",
   "execution_count": 64,
   "metadata": {},
   "outputs": [
    {
     "data": {
      "text/plain": [
       "Index(['Sample number', 'Site SIN Number', 'Local Authority',\n",
       "       'Production Area', 'Site Name', 'SIN', 'Sample For Fast Track',\n",
       "       'Sample Species', 'OS Grid Reference', 'Collection Date', 'Water Temp',\n",
       "       'Sample Source', 'Lab Received Date', 'Arrival Temp', 'Test Date',\n",
       "       'Ecoli/100g', 'Result Classification', 'Current Area Classification',\n",
       "       'UKAS No', 'Investigative/Resample', 'Date reported to FSA',\n",
       "       'Sample Rejected', 'Sample rejected reason', 'Improbable combination',\n",
       "       'Improbable combination value', 'Harvester's Own Results'],\n",
       "      dtype='object')"
      ]
     },
     "execution_count": 64,
     "metadata": {},
     "output_type": "execute_result"
    }
   ],
   "source": [
    "e_coli_data.columns"
   ]
  },
  {
   "cell_type": "code",
   "execution_count": 67,
   "metadata": {},
   "outputs": [
    {
     "data": {
      "text/plain": [
       "0                 Kerrera West\n",
       "1                        Islay\n",
       "2         North Connel Cockles\n",
       "3     Lynn of Lorn Sgeir Liath\n",
       "4     Loch Roag - Gob Sgrithir\n",
       "5                    Seilebost\n",
       "6            Luce Bay Drummore\n",
       "7              Luce Bay Razors\n",
       "8              Prestwick Shore\n",
       "9            Troon South Beach\n",
       "10                     Ayr Bay\n",
       "0                     Colonsay\n",
       "1               Sound of Gigha\n",
       "2             West Jura Razors\n",
       "3                Loch na Cille\n",
       "4       Loch Craignish Cockles\n",
       "5                 Kerrera West\n",
       "6               Oitir Mhor Bay\n",
       "7                 Kerrera East\n",
       "8       Loch Fyne: Otter Ferry\n",
       "9         Dunstaffnage Cockles\n",
       "10             Ganavan Cockles\n",
       "11               Loch Seaforth\n",
       "12     Loch Leurbost: Crosbost\n",
       "13                    Loch Eil\n",
       "14          Loch Eil: Fassfern\n",
       "15                     Arisaig\n",
       "16           Little Loch Broom\n",
       "17           Little Loch Broom\n",
       "18                Loch Kanaird\n",
       "19                Loch Eishort\n",
       "20                Loch Laxford\n",
       "21       Dales Voe - Fora Ness\n",
       "22                     Ayr Bay\n",
       "23           Troon South Beach\n",
       "24             Prestwick Shore\n",
       "Name: Production Area, dtype: object"
      ]
     },
     "execution_count": 67,
     "metadata": {},
     "output_type": "execute_result"
    }
   ],
   "source": [
    "e_coli_data['Production Area'] "
   ]
  },
  {
   "cell_type": "code",
   "execution_count": 66,
   "metadata": {
    "scrolled": true
   },
   "outputs": [
    {
     "data": {
      "text/html": [
       "<div>\n",
       "<style scoped>\n",
       "    .dataframe tbody tr th:only-of-type {\n",
       "        vertical-align: middle;\n",
       "    }\n",
       "\n",
       "    .dataframe tbody tr th {\n",
       "        vertical-align: top;\n",
       "    }\n",
       "\n",
       "    .dataframe thead th {\n",
       "        text-align: right;\n",
       "    }\n",
       "</style>\n",
       "<table border=\"1\" class=\"dataframe\">\n",
       "  <thead>\n",
       "    <tr style=\"text-align: right;\">\n",
       "      <th></th>\n",
       "      <th>Sample number</th>\n",
       "      <th>Site SIN Number</th>\n",
       "      <th>Local Authority</th>\n",
       "      <th>Production Area</th>\n",
       "      <th>Site Name</th>\n",
       "      <th>SIN</th>\n",
       "      <th>Sample For Fast Track</th>\n",
       "      <th>Sample Species</th>\n",
       "      <th>OS Grid Reference</th>\n",
       "      <th>Collection Date</th>\n",
       "      <th>...</th>\n",
       "      <th>Result Classification</th>\n",
       "      <th>Current Area Classification</th>\n",
       "      <th>UKAS No</th>\n",
       "      <th>Investigative/Resample</th>\n",
       "      <th>Date reported to FSA</th>\n",
       "      <th>Sample Rejected</th>\n",
       "      <th>Sample rejected reason</th>\n",
       "      <th>Improbable combination</th>\n",
       "      <th>Improbable combination value</th>\n",
       "      <th>Harvester's Own Results</th>\n",
       "    </tr>\n",
       "  </thead>\n",
       "  <tbody>\n",
       "    <tr>\n",
       "      <th>3</th>\n",
       "      <td>18/1021</td>\n",
       "      <td>AB 617 1204 04</td>\n",
       "      <td>Argyll and Bute Council</td>\n",
       "      <td>Loch na Cille</td>\n",
       "      <td>Loch na Cille Cockles</td>\n",
       "      <td>AB 617 1204 04</td>\n",
       "      <td>False</td>\n",
       "      <td>Common cockles</td>\n",
       "      <td>NM84146 12537</td>\n",
       "      <td>2018-07-17</td>\n",
       "      <td>...</td>\n",
       "      <td>C</td>\n",
       "      <td>C</td>\n",
       "      <td>2293</td>\n",
       "      <td>False</td>\n",
       "      <td>2018-07-23</td>\n",
       "      <td>False</td>\n",
       "      <td>NaN</td>\n",
       "      <td>False</td>\n",
       "      <td>NaN</td>\n",
       "      <td>False</td>\n",
       "    </tr>\n",
       "  </tbody>\n",
       "</table>\n",
       "<p>1 rows × 26 columns</p>\n",
       "</div>"
      ],
      "text/plain": [
       "  Sample number Site SIN Number          Local Authority Production Area  \\\n",
       "3       18/1021  AB 617 1204 04  Argyll and Bute Council   Loch na Cille   \n",
       "\n",
       "               Site Name             SIN  Sample For Fast Track  \\\n",
       "3  Loch na Cille Cockles  AB 617 1204 04                  False   \n",
       "\n",
       "   Sample Species OS Grid Reference Collection Date           ...             \\\n",
       "3  Common cockles     NM84146 12537      2018-07-17           ...              \n",
       "\n",
       "  Result Classification Current Area Classification UKAS No  \\\n",
       "3                     C                           C    2293   \n",
       "\n",
       "  Investigative/Resample Date reported to FSA Sample Rejected  \\\n",
       "3                  False           2018-07-23           False   \n",
       "\n",
       "  Sample rejected reason Improbable combination  Improbable combination value  \\\n",
       "3                    NaN                  False                           NaN   \n",
       "\n",
       "   Harvester's Own Results  \n",
       "3                    False  \n",
       "\n",
       "[1 rows x 26 columns]"
      ]
     },
     "execution_count": 66,
     "metadata": {},
     "output_type": "execute_result"
    }
   ],
   "source": [
    "# There is only one row\n",
    "e_coli_data[e_coli_data['Production Area'] == 'Loch na Cille']"
   ]
  },
  {
   "cell_type": "markdown",
   "metadata": {},
   "source": [
    "# 'Shellfish_-_Biotoxin_-_4_Weekly_Result_Report_-_2018_-_July_20.xls'\n",
    "\n",
    "[Biotoxins are substances which are both toxic and have a biological origin. ](http://www.biosciences-labs.bham.ac.uk/exhibit/whatare.html)"
   ]
  },
  {
   "cell_type": "code",
   "execution_count": 128,
   "metadata": {},
   "outputs": [],
   "source": [
    "biotoxin = pd.read_excel(os.path.join(data_dir_path\n",
    "    , 'Shellfish_-_Biotoxin_-_4_Weekly_Result_Report_-_2018_-_July_20.xls'))"
   ]
  },
  {
   "cell_type": "code",
   "execution_count": 70,
   "metadata": {},
   "outputs": [],
   "source": [
    "biotoxin_list = []\n",
    "for f in filenames_shellfish_biotoxin:\n",
    "    biotoxin_list.append(pd.read_excel(os.path.join(data_dir_path, f)))\n",
    "biotoxin = pd.concat(biotoxin_list)"
   ]
  },
  {
   "cell_type": "code",
   "execution_count": 71,
   "metadata": {},
   "outputs": [
    {
     "data": {
      "text/plain": [
       "Index(['Source of Sample', 'Local Authority', 'Production Area', 'Site Name',\n",
       "       'OSGridRef', 'SIN', 'Origin of Sample', 'Date Collected',\n",
       "       'Date Received', 'Species', 'PSPScreenbyHPLC_ND-DETECTED',\n",
       "       'PSP_HPLC (µg STXeq/kg) Semiquant result_<400-≥400',\n",
       "       'Date PSP HPLC Screen/semi quant result reported',\n",
       "       'PSP_HPLC (µg STXeq/kg) Quant_highvalue_result',\n",
       "       'Date PSP HPLC Quant result reported', 'PSP_by_MBA_(µg STXeq/kg)',\n",
       "       'Date PSP MBA result reported',\n",
       "       'Total OA/DTXs/PTXs (µg OA eq/kg) - HIGH value result',\n",
       "       'Total AZAs (µg AZA1 eq/kg) - HIGH value result',\n",
       "       'Total YTXs (mg YTX eq/kg) - HIGH value result',\n",
       "       'Date LC-MS result reported', 'DSP BY MBA_NG-PS',\n",
       "       'Date DSP BY MBA result reported', 'ASP\\n(mg /kg) ',\n",
       "       'Date ASP result reported', 'CEFAS Reference BTX/2014/',\n",
       "       'Temperature (Celsius) of sample on arrival'],\n",
       "      dtype='object')"
      ]
     },
     "execution_count": 71,
     "metadata": {},
     "output_type": "execute_result"
    }
   ],
   "source": [
    "biotoxin.columns"
   ]
  },
  {
   "cell_type": "code",
   "execution_count": 72,
   "metadata": {},
   "outputs": [],
   "source": [
    "biotoxin['Date Collected'] = pd.to_datetime(biotoxin['Date Collected']) \n",
    "biotoxin = biotoxin.set_index('Date Collected')"
   ]
  },
  {
   "cell_type": "code",
   "execution_count": 73,
   "metadata": {},
   "outputs": [],
   "source": [
    "biotoxin_ct = biotoxin[biotoxin['Production Area'] == 'Loch na Cille']"
   ]
  },
  {
   "cell_type": "code",
   "execution_count": 81,
   "metadata": {},
   "outputs": [],
   "source": [
    "biotoxin_ct = biotoxin_ct.sort_index()"
   ]
  },
  {
   "cell_type": "code",
   "execution_count": 75,
   "metadata": {},
   "outputs": [
    {
     "name": "stdout",
     "output_type": "stream",
     "text": [
      "Index(['Source of Sample', 'Local Authority', 'Production Area', 'Site Name',\n",
      "       'OSGridRef', 'SIN', 'Origin of Sample', 'Date Received', 'Species',\n",
      "       'PSPScreenbyHPLC_ND-DETECTED',\n",
      "       'PSP_HPLC (µg STXeq/kg) Semiquant result_<400-≥400',\n",
      "       'Date PSP HPLC Screen/semi quant result reported',\n",
      "       'PSP_HPLC (µg STXeq/kg) Quant_highvalue_result',\n",
      "       'Date PSP HPLC Quant result reported', 'PSP_by_MBA_(µg STXeq/kg)',\n",
      "       'Date PSP MBA result reported',\n",
      "       'Total OA/DTXs/PTXs (µg OA eq/kg) - HIGH value result',\n",
      "       'Total AZAs (µg AZA1 eq/kg) - HIGH value result',\n",
      "       'Total YTXs (mg YTX eq/kg) - HIGH value result',\n",
      "       'Date LC-MS result reported', 'DSP BY MBA_NG-PS',\n",
      "       'Date DSP BY MBA result reported', 'ASP\\n(mg /kg) ',\n",
      "       'Date ASP result reported', 'CEFAS Reference BTX/2014/',\n",
      "       'Temperature (Celsius) of sample on arrival'],\n",
      "      dtype='object')\n"
     ]
    }
   ],
   "source": [
    "print(biotoxin_ct.columns)"
   ]
  },
  {
   "cell_type": "code",
   "execution_count": 82,
   "metadata": {},
   "outputs": [
    {
     "data": {
      "text/plain": [
       "Date Collected\n",
       "2018-06-27    Common mussels\n",
       "2018-07-02    Common mussels\n",
       "2018-07-11    Common mussels\n",
       "2018-07-11    Common mussels\n",
       "2018-07-17    Common mussels\n",
       "2018-07-17    Common mussels\n",
       "2018-07-22    Common mussels\n",
       "2018-07-30    Common mussels\n",
       "Name: Species, dtype: object"
      ]
     },
     "execution_count": 82,
     "metadata": {},
     "output_type": "execute_result"
    }
   ],
   "source": [
    "biotoxin_ct['Species']"
   ]
  },
  {
   "cell_type": "code",
   "execution_count": 83,
   "metadata": {},
   "outputs": [
    {
     "data": {
      "text/plain": [
       "Date Collected\n",
       "2018-06-27    <400\n",
       "2018-07-02     NaN\n",
       "2018-07-11    <400\n",
       "2018-07-11    <400\n",
       "2018-07-17     NaN\n",
       "2018-07-17     NaN\n",
       "2018-07-22     NaN\n",
       "2018-07-30    <400\n",
       "Name: PSP_HPLC (µg STXeq/kg) Semiquant result_<400-≥400, dtype: object"
      ]
     },
     "execution_count": 83,
     "metadata": {},
     "output_type": "execute_result"
    }
   ],
   "source": [
    "biotoxin_ct['PSP_HPLC (µg STXeq/kg) Semiquant result_<400-≥400']"
   ]
  },
  {
   "cell_type": "code",
   "execution_count": 84,
   "metadata": {},
   "outputs": [
    {
     "data": {
      "text/plain": [
       "Date Collected\n",
       "2018-06-27    <RL\n",
       "2018-07-02    NaN\n",
       "2018-07-11    <RL\n",
       "2018-07-11    <RL\n",
       "2018-07-17    NaN\n",
       "2018-07-17    NaN\n",
       "2018-07-22    NaN\n",
       "2018-07-30    <RL\n",
       "Name: PSP_HPLC (µg STXeq/kg) Quant_highvalue_result, dtype: object"
      ]
     },
     "execution_count": 84,
     "metadata": {},
     "output_type": "execute_result"
    }
   ],
   "source": [
    "biotoxin_ct['PSP_HPLC (µg STXeq/kg) Quant_highvalue_result']"
   ]
  },
  {
   "cell_type": "code",
   "execution_count": 85,
   "metadata": {
    "scrolled": true
   },
   "outputs": [
    {
     "data": {
      "text/plain": [
       "Date Collected\n",
       "2018-06-27    Common mussels\n",
       "2018-07-02    Common mussels\n",
       "2018-07-11    Common mussels\n",
       "2018-07-11    Common mussels\n",
       "2018-07-17    Common mussels\n",
       "2018-07-17    Common mussels\n",
       "2018-07-22    Common mussels\n",
       "2018-07-30    Common mussels\n",
       "Name: Species, dtype: object"
      ]
     },
     "execution_count": 85,
     "metadata": {},
     "output_type": "execute_result"
    }
   ],
   "source": [
    "biotoxin_ct.iloc[:, 8]"
   ]
  },
  {
   "cell_type": "code",
   "execution_count": 86,
   "metadata": {
    "scrolled": true
   },
   "outputs": [
    {
     "data": {
      "text/plain": [
       "Date Collected\n",
       "2018-06-27    Detected\n",
       "2018-07-02          ND\n",
       "2018-07-11    Detected\n",
       "2018-07-11    Detected\n",
       "2018-07-17         NaN\n",
       "2018-07-17         NaN\n",
       "2018-07-22         NaN\n",
       "2018-07-30    Detected\n",
       "Name: PSPScreenbyHPLC_ND-DETECTED, dtype: object"
      ]
     },
     "execution_count": 86,
     "metadata": {},
     "output_type": "execute_result"
    }
   ],
   "source": [
    "biotoxin_ct.iloc[:, 9]"
   ]
  },
  {
   "cell_type": "code",
   "execution_count": 87,
   "metadata": {
    "scrolled": true
   },
   "outputs": [
    {
     "data": {
      "text/plain": [
       "Date Collected\n",
       "2018-06-27    <400\n",
       "2018-07-02     NaN\n",
       "2018-07-11    <400\n",
       "2018-07-11    <400\n",
       "2018-07-17     NaN\n",
       "2018-07-17     NaN\n",
       "2018-07-22     NaN\n",
       "2018-07-30    <400\n",
       "Name: PSP_HPLC (µg STXeq/kg) Semiquant result_<400-≥400, dtype: object"
      ]
     },
     "execution_count": 87,
     "metadata": {},
     "output_type": "execute_result"
    }
   ],
   "source": [
    "biotoxin_ct.iloc[:, 10]"
   ]
  },
  {
   "cell_type": "code",
   "execution_count": 88,
   "metadata": {
    "scrolled": true
   },
   "outputs": [
    {
     "data": {
      "text/plain": [
       "Date Collected\n",
       "2018-06-27    <RL\n",
       "2018-07-02    NaN\n",
       "2018-07-11    <RL\n",
       "2018-07-11    <RL\n",
       "2018-07-17    NaN\n",
       "2018-07-17    NaN\n",
       "2018-07-22    NaN\n",
       "2018-07-30    <RL\n",
       "Name: PSP_HPLC (µg STXeq/kg) Quant_highvalue_result, dtype: object"
      ]
     },
     "execution_count": 88,
     "metadata": {},
     "output_type": "execute_result"
    }
   ],
   "source": [
    "biotoxin_ct.iloc[:, 12]"
   ]
  },
  {
   "cell_type": "code",
   "execution_count": 89,
   "metadata": {
    "scrolled": true
   },
   "outputs": [
    {
     "data": {
      "text/plain": [
       "Date Collected\n",
       "2018-06-27   NaN\n",
       "2018-07-02   NaN\n",
       "2018-07-11   NaN\n",
       "2018-07-11   NaN\n",
       "2018-07-17   NaN\n",
       "2018-07-17   NaN\n",
       "2018-07-22   NaN\n",
       "2018-07-30   NaN\n",
       "Name: PSP_by_MBA_(µg STXeq/kg), dtype: float64"
      ]
     },
     "execution_count": 89,
     "metadata": {},
     "output_type": "execute_result"
    }
   ],
   "source": [
    "biotoxin_ct.iloc[:, 14]"
   ]
  },
  {
   "cell_type": "code",
   "execution_count": 90,
   "metadata": {
    "scrolled": true
   },
   "outputs": [
    {
     "data": {
      "text/plain": [
       "Date Collected\n",
       "2018-06-27     92\n",
       "2018-07-02     60\n",
       "2018-07-11     64\n",
       "2018-07-11     64\n",
       "2018-07-17    169\n",
       "2018-07-17    169\n",
       "2018-07-22    122\n",
       "2018-07-30    181\n",
       "Name: Total OA/DTXs/PTXs (µg OA eq/kg) - HIGH value result, dtype: object"
      ]
     },
     "execution_count": 90,
     "metadata": {},
     "output_type": "execute_result"
    }
   ],
   "source": [
    "biotoxin_ct.iloc[:, 16]"
   ]
  },
  {
   "cell_type": "code",
   "execution_count": 91,
   "metadata": {},
   "outputs": [
    {
     "data": {
      "text/plain": [
       "<matplotlib.axes._subplots.AxesSubplot at 0x7a69573764a8>"
      ]
     },
     "execution_count": 91,
     "metadata": {},
     "output_type": "execute_result"
    },
    {
     "data": {
      "image/png": "[encoded data removed]",
      "text/plain": [
       "<Figure size 1440x720 with 1 Axes>"
      ]
     },
     "metadata": {},
     "output_type": "display_data"
    }
   ],
   "source": [
    "pd.DataFrame(biotoxin_ct.iloc[:, 16]).plot.bar(figsize=(20, 10), grid=True)"
   ]
  },
  {
   "cell_type": "code",
   "execution_count": 92,
   "metadata": {},
   "outputs": [
    {
     "data": {
      "text/plain": [
       "Date Collected\n",
       "2018-06-27    <RL\n",
       "2018-07-02    <RL\n",
       "2018-07-11    <RL\n",
       "2018-07-11    <RL\n",
       "2018-07-17    <RL\n",
       "2018-07-17    <RL\n",
       "2018-07-22    <RL\n",
       "2018-07-30    <RL\n",
       "Name: Total AZAs (µg AZA1 eq/kg) - HIGH value result, dtype: object"
      ]
     },
     "execution_count": 92,
     "metadata": {},
     "output_type": "execute_result"
    }
   ],
   "source": [
    "biotoxin_ct.iloc[:, 17]"
   ]
  },
  {
   "cell_type": "code",
   "execution_count": 93,
   "metadata": {},
   "outputs": [
    {
     "data": {
      "text/plain": [
       "Date Collected\n",
       "2018-06-27    <RL\n",
       "2018-07-02    <RL\n",
       "2018-07-11    0.1\n",
       "2018-07-11    0.1\n",
       "2018-07-17      1\n",
       "2018-07-17      1\n",
       "2018-07-22    0.2\n",
       "2018-07-30    0.3\n",
       "Name: Total YTXs (mg YTX eq/kg) - HIGH value result, dtype: object"
      ]
     },
     "execution_count": 93,
     "metadata": {},
     "output_type": "execute_result"
    }
   ],
   "source": [
    "biotoxin_ct.iloc[:, 18]"
   ]
  },
  {
   "cell_type": "code",
   "execution_count": 95,
   "metadata": {},
   "outputs": [
    {
     "data": {
      "text/plain": [
       "Date Collected\n",
       "2018-06-27   NaN\n",
       "2018-07-02   NaN\n",
       "2018-07-11   NaN\n",
       "2018-07-11   NaN\n",
       "2018-07-17   NaN\n",
       "2018-07-17   NaN\n",
       "2018-07-22   NaN\n",
       "2018-07-30   NaN\n",
       "Name: DSP BY MBA_NG-PS, dtype: float64"
      ]
     },
     "execution_count": 95,
     "metadata": {},
     "output_type": "execute_result"
    }
   ],
   "source": [
    "biotoxin_ct.iloc[:, 20]"
   ]
  },
  {
   "cell_type": "code",
   "execution_count": 96,
   "metadata": {},
   "outputs": [
    {
     "data": {
      "text/plain": [
       "Date Collected\n",
       "2018-06-27     NaN\n",
       "2018-07-02    <LOQ\n",
       "2018-07-11     NaN\n",
       "2018-07-11     NaN\n",
       "2018-07-17     NaN\n",
       "2018-07-17     NaN\n",
       "2018-07-22     NaN\n",
       "2018-07-30    <LOQ\n",
       "Name: ASP\\n(mg /kg) , dtype: object"
      ]
     },
     "execution_count": 96,
     "metadata": {},
     "output_type": "execute_result"
    }
   ],
   "source": [
    "biotoxin_ct.iloc[:, 22]"
   ]
  },
  {
   "cell_type": "markdown",
   "metadata": {},
   "source": [
    "# Map\n",
    "\n",
    "http://geo.holoviews.org/Working_with_Bokeh.html\n",
    "\n",
    "https://scipython.com/book/chapter-2-the-core-python-language-i/additional-problems/converting-between-an-os-grid-reference-and-longitudelatitude/\n",
    "\n",
    "https://stackoverflow.com/questions/39117276/python-to-convert-map-reference-to-latitude-longitude\n",
    "\n",
    "http://www.bigendiandata.com/2017-06-27-Mapping_in_Jupyter/"
   ]
  },
  {
   "cell_type": "code",
   "execution_count": 7,
   "metadata": {},
   "outputs": [
    {
     "ename": "AttributeError",
     "evalue": "module 'numpy' has no attribute '__version__'",
     "output_type": "error",
     "traceback": [
      "\u001b[0;31m---------------------------------------------------------------------------\u001b[0m",
      "\u001b[0;31mAttributeError\u001b[0m                            Traceback (most recent call last)",
      "\u001b[0;32m<ipython-input-7-068a53782480>\u001b[0m in \u001b[0;36m<module>\u001b[0;34m()\u001b[0m\n\u001b[1;32m      1\u001b[0m \u001b[0;31m# http://geo.holoviews.org/Working_with_Bokeh.html\u001b[0m\u001b[0;34m\u001b[0m\u001b[0;34m\u001b[0m\u001b[0m\n\u001b[1;32m      2\u001b[0m \u001b[0;34m\u001b[0m\u001b[0m\n\u001b[0;32m----> 3\u001b[0;31m \u001b[0;32mimport\u001b[0m \u001b[0mxarray\u001b[0m \u001b[0;32mas\u001b[0m \u001b[0mxr\u001b[0m\u001b[0;34m\u001b[0m\u001b[0m\n\u001b[0m\u001b[1;32m      4\u001b[0m \u001b[0;32mimport\u001b[0m \u001b[0mnumpy\u001b[0m \u001b[0;32mas\u001b[0m \u001b[0mnp\u001b[0m\u001b[0;34m\u001b[0m\u001b[0m\n\u001b[1;32m      5\u001b[0m \u001b[0;32mimport\u001b[0m \u001b[0mpandas\u001b[0m \u001b[0;32mas\u001b[0m \u001b[0mpd\u001b[0m\u001b[0;34m\u001b[0m\u001b[0m\n",
      "\u001b[0;32m~/miniconda3/lib/python3.6/site-packages/xarray/__init__.py\u001b[0m in \u001b[0;36m<module>\u001b[0;34m()\u001b[0m\n\u001b[1;32m      8\u001b[0m \u001b[0;32mdel\u001b[0m \u001b[0mget_versions\u001b[0m\u001b[0;34m\u001b[0m\u001b[0m\n\u001b[1;32m      9\u001b[0m \u001b[0;34m\u001b[0m\u001b[0m\n\u001b[0;32m---> 10\u001b[0;31m \u001b[0;32mfrom\u001b[0m \u001b[0;34m.\u001b[0m\u001b[0mcore\u001b[0m\u001b[0;34m.\u001b[0m\u001b[0malignment\u001b[0m \u001b[0;32mimport\u001b[0m \u001b[0malign\u001b[0m\u001b[0;34m,\u001b[0m \u001b[0mbroadcast\u001b[0m\u001b[0;34m,\u001b[0m \u001b[0mbroadcast_arrays\u001b[0m\u001b[0;34m\u001b[0m\u001b[0m\n\u001b[0m\u001b[1;32m     11\u001b[0m \u001b[0;32mfrom\u001b[0m \u001b[0;34m.\u001b[0m\u001b[0mcore\u001b[0m\u001b[0;34m.\u001b[0m\u001b[0mcommon\u001b[0m \u001b[0;32mimport\u001b[0m \u001b[0mfull_like\u001b[0m\u001b[0;34m,\u001b[0m \u001b[0mzeros_like\u001b[0m\u001b[0;34m,\u001b[0m \u001b[0mones_like\u001b[0m\u001b[0;34m\u001b[0m\u001b[0m\n\u001b[1;32m     12\u001b[0m \u001b[0;32mfrom\u001b[0m \u001b[0;34m.\u001b[0m\u001b[0mcore\u001b[0m\u001b[0;34m.\u001b[0m\u001b[0mcombine\u001b[0m \u001b[0;32mimport\u001b[0m \u001b[0mconcat\u001b[0m\u001b[0;34m,\u001b[0m \u001b[0mauto_combine\u001b[0m\u001b[0;34m\u001b[0m\u001b[0m\n",
      "\u001b[0;32m~/miniconda3/lib/python3.6/site-packages/xarray/core/alignment.py\u001b[0m in \u001b[0;36m<module>\u001b[0;34m()\u001b[0m\n\u001b[1;32m      8\u001b[0m \u001b[0;32mimport\u001b[0m \u001b[0mnumpy\u001b[0m \u001b[0;32mas\u001b[0m \u001b[0mnp\u001b[0m\u001b[0;34m\u001b[0m\u001b[0m\n\u001b[1;32m      9\u001b[0m \u001b[0;34m\u001b[0m\u001b[0m\n\u001b[0;32m---> 10\u001b[0;31m \u001b[0;32mfrom\u001b[0m \u001b[0;34m.\u001b[0m \u001b[0;32mimport\u001b[0m \u001b[0mutils\u001b[0m\u001b[0;34m\u001b[0m\u001b[0m\n\u001b[0m\u001b[1;32m     11\u001b[0m \u001b[0;32mfrom\u001b[0m \u001b[0;34m.\u001b[0m\u001b[0mindexing\u001b[0m \u001b[0;32mimport\u001b[0m \u001b[0mget_indexer_nd\u001b[0m\u001b[0;34m\u001b[0m\u001b[0m\n\u001b[1;32m     12\u001b[0m \u001b[0;32mfrom\u001b[0m \u001b[0;34m.\u001b[0m\u001b[0mpycompat\u001b[0m \u001b[0;32mimport\u001b[0m \u001b[0mOrderedDict\u001b[0m\u001b[0;34m,\u001b[0m \u001b[0miteritems\u001b[0m\u001b[0;34m,\u001b[0m \u001b[0msuppress\u001b[0m\u001b[0;34m\u001b[0m\u001b[0m\n",
      "\u001b[0;32m~/miniconda3/lib/python3.6/site-packages/xarray/core/utils.py\u001b[0m in \u001b[0;36m<module>\u001b[0;34m()\u001b[0m\n\u001b[1;32m     11\u001b[0m \u001b[0;34m\u001b[0m\u001b[0m\n\u001b[1;32m     12\u001b[0m \u001b[0;32mimport\u001b[0m \u001b[0mnumpy\u001b[0m \u001b[0;32mas\u001b[0m \u001b[0mnp\u001b[0m\u001b[0;34m\u001b[0m\u001b[0m\n\u001b[0;32m---> 13\u001b[0;31m \u001b[0;32mimport\u001b[0m \u001b[0mpandas\u001b[0m \u001b[0;32mas\u001b[0m \u001b[0mpd\u001b[0m\u001b[0;34m\u001b[0m\u001b[0m\n\u001b[0m\u001b[1;32m     14\u001b[0m \u001b[0;34m\u001b[0m\u001b[0m\n\u001b[1;32m     15\u001b[0m \u001b[0;32mfrom\u001b[0m \u001b[0;34m.\u001b[0m\u001b[0moptions\u001b[0m \u001b[0;32mimport\u001b[0m \u001b[0mOPTIONS\u001b[0m\u001b[0;34m\u001b[0m\u001b[0m\n",
      "\u001b[0;32m~/miniconda3/lib/python3.6/site-packages/pandas/__init__.py\u001b[0m in \u001b[0;36m<module>\u001b[0;34m()\u001b[0m\n\u001b[1;32m     21\u001b[0m \u001b[0;34m\u001b[0m\u001b[0m\n\u001b[1;32m     22\u001b[0m \u001b[0;31m# numpy compat\u001b[0m\u001b[0;34m\u001b[0m\u001b[0;34m\u001b[0m\u001b[0m\n\u001b[0;32m---> 23\u001b[0;31m \u001b[0;32mfrom\u001b[0m \u001b[0mpandas\u001b[0m\u001b[0;34m.\u001b[0m\u001b[0mcompat\u001b[0m\u001b[0;34m.\u001b[0m\u001b[0mnumpy\u001b[0m \u001b[0;32mimport\u001b[0m \u001b[0;34m*\u001b[0m\u001b[0;34m\u001b[0m\u001b[0m\n\u001b[0m\u001b[1;32m     24\u001b[0m \u001b[0;34m\u001b[0m\u001b[0m\n\u001b[1;32m     25\u001b[0m \u001b[0;32mtry\u001b[0m\u001b[0;34m:\u001b[0m\u001b[0;34m\u001b[0m\u001b[0m\n",
      "\u001b[0;32m~/miniconda3/lib/python3.6/site-packages/pandas/compat/numpy/__init__.py\u001b[0m in \u001b[0;36m<module>\u001b[0;34m()\u001b[0m\n\u001b[1;32m      8\u001b[0m \u001b[0;34m\u001b[0m\u001b[0m\n\u001b[1;32m      9\u001b[0m \u001b[0;31m# numpy versioning\u001b[0m\u001b[0;34m\u001b[0m\u001b[0;34m\u001b[0m\u001b[0m\n\u001b[0;32m---> 10\u001b[0;31m \u001b[0m_np_version\u001b[0m \u001b[0;34m=\u001b[0m \u001b[0mnp\u001b[0m\u001b[0;34m.\u001b[0m\u001b[0m__version__\u001b[0m\u001b[0;34m\u001b[0m\u001b[0m\n\u001b[0m\u001b[1;32m     11\u001b[0m \u001b[0m_nlv\u001b[0m \u001b[0;34m=\u001b[0m \u001b[0mLooseVersion\u001b[0m\u001b[0;34m(\u001b[0m\u001b[0m_np_version\u001b[0m\u001b[0;34m)\u001b[0m\u001b[0;34m\u001b[0m\u001b[0m\n\u001b[1;32m     12\u001b[0m \u001b[0m_np_version_under1p10\u001b[0m \u001b[0;34m=\u001b[0m \u001b[0m_nlv\u001b[0m \u001b[0;34m<\u001b[0m \u001b[0mLooseVersion\u001b[0m\u001b[0;34m(\u001b[0m\u001b[0;34m'1.10'\u001b[0m\u001b[0;34m)\u001b[0m\u001b[0;34m\u001b[0m\u001b[0m\n",
      "\u001b[0;31mAttributeError\u001b[0m: module 'numpy' has no attribute '__version__'"
     ]
    }
   ],
   "source": [
    "# http://geo.holoviews.org/Working_with_Bokeh.html\n",
    "\n",
    "import xarray as xr\n",
    "import numpy as np\n",
    "import pandas as pd\n",
    "import holoviews as hv\n",
    "import geoviews as gv\n",
    "import geoviews.feature as gf\n",
    "\n",
    "import cartopy\n",
    "from cartopy import crs as ccrs\n",
    "\n",
    "from bokeh.tile_providers import STAMEN_TONER\n",
    "from bokeh.models import WMTSTileSource\n",
    "\n",
    "hv.notebook_extension('bokeh')"
   ]
  },
  {
   "cell_type": "code",
   "execution_count": null,
   "metadata": {},
   "outputs": [],
   "source": []
  }
 ],
 "metadata": {
  "kernelspec": {
   "display_name": "Python [conda env:miniconda3]",
   "language": "python",
   "name": "conda-env-miniconda3-py"
  },
  "language_info": {
   "codemirror_mode": {
    "name": "ipython",
    "version": 3
   },
   "file_extension": ".py",
   "mimetype": "text/x-python",
   "name": "python",
   "nbconvert_exporter": "python",
   "pygments_lexer": "ipython3",
   "version": "3.6.5"
  }
 },
 "nbformat": 4,
 "nbformat_minor": 2
}
