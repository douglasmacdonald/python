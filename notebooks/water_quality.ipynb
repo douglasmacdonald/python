{
 "cells": [
  {
   "cell_type": "markdown",
   "metadata": {},
   "source": [
    "* [Scotland's Aquaculture Map](http://aquaculture.scotland.gov.uk/map/map.aspx)\n",
    "* [Shellfish results](http://www.foodstandards.gov.scot/business-and-industry/industry-specific-advice/fish-and-shellfish/shellfish-results)\n",
    "* [Safety and harvesting](http://www.foodstandards.gov.scot/business-and-industry/industry-specific-advice/fish-and-shellfish)\n",
    "\n",
    "https://twitter.com/FSScotBiotoxins\n",
    "\n",
    "http://www.foodstandards.gov.scot/business-and-industry/industry-specific-advice/fish-and-shellfish\n",
    "\n",
    "http://aquaculture.scotland.gov.uk/data/site_details.aspx\n",
    "\n",
    "http://aquaculture.scotland.gov.uk/data/shellfish_species_area_classification.aspx\n",
    "\n",
    "http://aquaculture.scotland.gov.uk/data/phytoplankton_monitoring_samples.aspx"
   ]
  },
  {
   "cell_type": "markdown",
   "metadata": {},
   "source": [
    "\n"
   ]
  },
  {
   "cell_type": "code",
   "execution_count": 35,
   "metadata": {},
   "outputs": [],
   "source": [
    "%matplotlib inline\n",
    "\n",
    "import os\n",
    "import datetime\n",
    "import requests\n",
    "import pandas as pd\n",
    "import dask.dataframe as dd\n",
    "\n",
    "data_dir_path = os.path.join(os.path.expanduser('~'), 'Downloads')\n",
    "\n",
    "# 'Shellfish_-_Phytoplankton_-_4_Weekly_Result_Report_-_{}_-_{}_{}.xlsx'\n",
    "phytoplankton_start_str = 'Shellfish_-_Phytoplankton_-_4_Weekly_Result_Report'\n",
    "format_str_phytoplankton = phytoplankton_start_str + '_-_{}_-_{}_{}.xlsx'\n",
    "\n",
    "# 'Shellfish_-_E._coli_-_Weekly_Result_Report_-_{}_-_{}_{}_.xls'\n",
    "e_coli_start_str = 'Shellfish_-_E._coli_-_Weekly_Result_Report'\n",
    "format_str_e_coli = e_coli_start_str + '_-_{}_-_{}_{}_.xls'\n",
    "\n",
    "# 'Shellfish_-_Biotoxin_-_4_Weekly_Result_Report_-_{}_-_{}_{}.xls'\n",
    "biotoxin_start_str = 'Shellfish_-_Biotoxin_-_4_Weekly_Result_Report'\n",
    "format_str_biotoxin = biotoxin_start_str + '_-_{}_-_{}_{}.xls'"
   ]
  },
  {
   "cell_type": "markdown",
   "metadata": {},
   "source": [
    "# Download files\n",
    "\n",
    "http://www.foodstandards.gov.scot/publications-and-research/publications/shellfish-results-week-ending-03-august-2018\n",
    "\n",
    "\n",
    "\n",
    "http://docs.python-requests.org/en/master/"
   ]
  },
  {
   "cell_type": "code",
   "execution_count": 2,
   "metadata": {},
   "outputs": [],
   "source": []
  },
  {
   "cell_type": "code",
   "execution_count": 20,
   "metadata": {},
   "outputs": [],
   "source": [
    "def create_list_of_filenames(format_string):\n",
    "    \n",
    "    my_months = ['January'\n",
    "             , 'February'\n",
    "             ,'March'\n",
    "             , 'April'\n",
    "             , 'May'\n",
    "             , 'June'\n",
    "             , 'July'\n",
    "             , 'August'\n",
    "             , 'September'\n",
    "             , 'October'\n",
    "             , 'November'\n",
    "             , 'December'\n",
    "            ]\n",
    "\n",
    "    list_of_filenames = []\n",
    "    \n",
    "    t = datetime.datetime(year=2018, month=1, day=1)\n",
    "    for i in range(365):\n",
    "\n",
    "        day = t.strftime('%d')\n",
    "        month = my_months[t.month-1]\n",
    "        year = t.year\n",
    "        list_of_filenames.append(format_string.format(year, month, day))\n",
    "        t = t + datetime.timedelta(days=1)\n",
    "    return list_of_filenames\n",
    "\n",
    "if False: \n",
    "    #list_of_filenames_phytoplankton = create_list_of_filenames('Shellfish_-_Phytoplankton_-_4_Weekly_Result_Report_-_{}_-_{}_{}.xlsx')\n",
    "    list_of_filenames_phytoplankton = create_list_of_filenames(format_str_phytoplankton)\n",
    "\n",
    "    #list_of_filenames_e_coli = create_list_of_filenames('Shellfish_-_E._coli_-_Weekly_Result_Report_-_{}_-_{}_{}_.xls')\n",
    "    list_of_filenames_e_coli = create_list_of_filenames(format_str_e_coli)\n",
    "\n",
    "    #list_of_filenames_biotoxin = create_list_of_filenames('Shellfish_-_Biotoxin_-_4_Weekly_Result_Report_-_{}_-_{}_{}.xls')\n",
    "    list_of_filenames_biotoxin = create_list_of_filenames(format_str_biotoxin)"
   ]
  },
  {
   "cell_type": "code",
   "execution_count": null,
   "metadata": {},
   "outputs": [],
   "source": [
    "def url(filename):\n",
    "    return 'http://www.foodstandards.gov.scot/downloads/' + filename\n",
    "\n",
    "def filepath(filename):\n",
    "    return os.path.join(data_dir_path, filename)\n",
    "    \n",
    "def filter_out_exiting_filesnames(list_of_filenames):\n",
    "    new_filenames = []\n",
    "    for filename in list_of_filenames:\n",
    "        if os.path.exists(path):\n",
    "            continue\n",
    "        new_filenames.append(filename)\n",
    "        \n",
    "if False:\n",
    "    list_of_filenames_phytoplankton = filter_out_exiting_filesnames(list_of_filenames_phytoplankton)\n",
    "    list_of_filenames_e_coli = filter_out_exiting_filesnames(list_of_filenames_e_coli)\n",
    "    list_of_filenames_biotoxin = filter_out_exiting_filesnames(list_of_filenames_biotoxin)"
   ]
  },
  {
   "cell_type": "code",
   "execution_count": 33,
   "metadata": {},
   "outputs": [],
   "source": [
    "list_of_data_files = pd.DataFrame(os.listdir(data_dir_path), columns=['files'])"
   ]
  },
  {
   "cell_type": "code",
   "execution_count": 97,
   "metadata": {},
   "outputs": [],
   "source": [
    "list_of_data_files_phytoplankton = list_of_data_files[list_of_data_files.files.str.startswith(phytoplankton_start_str)].copy()\n",
    "list_of_data_files_e_coli = list_of_data_files[list_of_data_files.files.str.startswith(e_coli_start_str)].copy()\n",
    "list_of_data_files_biotoxin = list_of_data_files[list_of_data_files.files.str.startswith(biotoxin_start_str)].copy()"
   ]
  },
  {
   "cell_type": "code",
   "execution_count": 132,
   "metadata": {
    "scrolled": true
   },
   "outputs": [],
   "source": [
    "def year(x):\n",
    "    return int(x.split('.')[0].split('_')[-4])\n",
    "def month(x):\n",
    "    my_months_to_int = dict(zip(my_months, range(1,13)))\n",
    "    return my_months_to_int[x.split('.')[0].split('_')[-2]]\n",
    "def day(x):\n",
    "    return int(x.split('.')[0].split('_')[-1])\n",
    "\n",
    "def to_date(x):\n",
    "    return datetime.date(year=year(x), month=month(x), day=day(x))\n",
    "\n",
    "list_of_data_files_phytoplankton['date'] = list_of_data_files_phytoplankton['files'].apply(to_date)\n",
    "list_of_data_files_biotoxin['date'] = list_of_data_files_biotoxin['files'].apply(to_date)"
   ]
  },
  {
   "cell_type": "code",
   "execution_count": 133,
   "metadata": {
    "scrolled": false
   },
   "outputs": [],
   "source": [
    "def year(x):\n",
    "    return int(x.split('_')[-5])\n",
    "def month(x):\n",
    "    my_months_to_int = dict(zip(my_months, range(1,13)))\n",
    "    return my_months_to_int[x.split('_')[-3]]\n",
    "def day(x):\n",
    "    return int(x.split('_')[-2])\n",
    "def to_date(x):\n",
    "    return datetime.date(year=year(x), month=month(x), day=day(x))\n",
    "\n",
    "list_of_data_files_e_coli['date'] = list_of_data_files_e_coli['files'].apply(to_date)"
   ]
  },
  {
   "cell_type": "code",
   "execution_count": 23,
   "metadata": {
    "scrolled": false
   },
   "outputs": [
    {
     "ename": "KeyboardInterrupt",
     "evalue": "",
     "output_type": "error",
     "traceback": [
      "\u001b[0;31m---------------------------------------------------------------------------\u001b[0m",
      "\u001b[0;31mTypeError\u001b[0m                                 Traceback (most recent call last)",
      "\u001b[0;32m~/miniconda3/lib/python3.6/site-packages/urllib3/connectionpool.py\u001b[0m in \u001b[0;36m_make_request\u001b[0;34m(self, conn, method, url, timeout, chunked, **httplib_request_kw)\u001b[0m\n\u001b[1;32m    376\u001b[0m             \u001b[0;32mtry\u001b[0m\u001b[0;34m:\u001b[0m  \u001b[0;31m# Python 2.7, use buffering of HTTP responses\u001b[0m\u001b[0;34m\u001b[0m\u001b[0m\n\u001b[0;32m--> 377\u001b[0;31m                 \u001b[0mhttplib_response\u001b[0m \u001b[0;34m=\u001b[0m \u001b[0mconn\u001b[0m\u001b[0;34m.\u001b[0m\u001b[0mgetresponse\u001b[0m\u001b[0;34m(\u001b[0m\u001b[0mbuffering\u001b[0m\u001b[0;34m=\u001b[0m\u001b[0;32mTrue\u001b[0m\u001b[0;34m)\u001b[0m\u001b[0;34m\u001b[0m\u001b[0m\n\u001b[0m\u001b[1;32m    378\u001b[0m             \u001b[0;32mexcept\u001b[0m \u001b[0mTypeError\u001b[0m\u001b[0;34m:\u001b[0m  \u001b[0;31m# Python 2.6 and older, Python 3\u001b[0m\u001b[0;34m\u001b[0m\u001b[0m\n",
      "\u001b[0;31mTypeError\u001b[0m: getresponse() got an unexpected keyword argument 'buffering'",
      "\nDuring handling of the above exception, another exception occurred:\n",
      "\u001b[0;31mKeyboardInterrupt\u001b[0m                         Traceback (most recent call last)",
      "\u001b[0;32m<ipython-input-23-a5ab36747b8e>\u001b[0m in \u001b[0;36m<module>\u001b[0;34m()\u001b[0m\n\u001b[1;32m     16\u001b[0m                 \u001b[0mprint\u001b[0m\u001b[0;34m(\u001b[0m\u001b[0;34m'.'\u001b[0m\u001b[0;34m,\u001b[0m \u001b[0mend\u001b[0m\u001b[0;34m=\u001b[0m\u001b[0;34m''\u001b[0m\u001b[0;34m)\u001b[0m\u001b[0;34m\u001b[0m\u001b[0m\n\u001b[1;32m     17\u001b[0m \u001b[0;34m\u001b[0m\u001b[0m\n\u001b[0;32m---> 18\u001b[0;31m \u001b[0mgggg\u001b[0m\u001b[0;34m(\u001b[0m\u001b[0mlist_of_filenames_2\u001b[0m\u001b[0;34m)\u001b[0m\u001b[0;34m\u001b[0m\u001b[0m\n\u001b[0m\u001b[1;32m     19\u001b[0m \u001b[0mgggg\u001b[0m\u001b[0;34m(\u001b[0m\u001b[0mlist_of_filenames_3\u001b[0m\u001b[0;34m)\u001b[0m\u001b[0;34m\u001b[0m\u001b[0m\n",
      "\u001b[0;32m<ipython-input-23-a5ab36747b8e>\u001b[0m in \u001b[0;36mgggg\u001b[0;34m(list_of_filenames)\u001b[0m\n\u001b[1;32m      9\u001b[0m             \u001b[0;32mcontinue\u001b[0m\u001b[0;34m\u001b[0m\u001b[0m\n\u001b[1;32m     10\u001b[0m \u001b[0;34m\u001b[0m\u001b[0m\n\u001b[0;32m---> 11\u001b[0;31m         \u001b[0mr\u001b[0m \u001b[0;34m=\u001b[0m \u001b[0mrequests\u001b[0m\u001b[0;34m.\u001b[0m\u001b[0mget\u001b[0m\u001b[0;34m(\u001b[0m\u001b[0murl\u001b[0m\u001b[0;34m,\u001b[0m \u001b[0mstream\u001b[0m\u001b[0;34m=\u001b[0m\u001b[0;32mTrue\u001b[0m\u001b[0;34m)\u001b[0m\u001b[0;34m\u001b[0m\u001b[0m\n\u001b[0m\u001b[1;32m     12\u001b[0m \u001b[0;34m\u001b[0m\u001b[0m\n\u001b[1;32m     13\u001b[0m         \u001b[0;32mif\u001b[0m \u001b[0mr\u001b[0m\u001b[0;34m.\u001b[0m\u001b[0mstatus_code\u001b[0m \u001b[0;34m==\u001b[0m \u001b[0;36m200\u001b[0m\u001b[0;34m:\u001b[0m\u001b[0;34m\u001b[0m\u001b[0m\n",
      "\u001b[0;32m~/miniconda3/lib/python3.6/site-packages/requests/api.py\u001b[0m in \u001b[0;36mget\u001b[0;34m(url, params, **kwargs)\u001b[0m\n\u001b[1;32m     70\u001b[0m \u001b[0;34m\u001b[0m\u001b[0m\n\u001b[1;32m     71\u001b[0m     \u001b[0mkwargs\u001b[0m\u001b[0;34m.\u001b[0m\u001b[0msetdefault\u001b[0m\u001b[0;34m(\u001b[0m\u001b[0;34m'allow_redirects'\u001b[0m\u001b[0;34m,\u001b[0m \u001b[0;32mTrue\u001b[0m\u001b[0;34m)\u001b[0m\u001b[0;34m\u001b[0m\u001b[0m\n\u001b[0;32m---> 72\u001b[0;31m     \u001b[0;32mreturn\u001b[0m \u001b[0mrequest\u001b[0m\u001b[0;34m(\u001b[0m\u001b[0;34m'get'\u001b[0m\u001b[0;34m,\u001b[0m \u001b[0murl\u001b[0m\u001b[0;34m,\u001b[0m \u001b[0mparams\u001b[0m\u001b[0;34m=\u001b[0m\u001b[0mparams\u001b[0m\u001b[0;34m,\u001b[0m \u001b[0;34m**\u001b[0m\u001b[0mkwargs\u001b[0m\u001b[0;34m)\u001b[0m\u001b[0;34m\u001b[0m\u001b[0m\n\u001b[0m\u001b[1;32m     73\u001b[0m \u001b[0;34m\u001b[0m\u001b[0m\n\u001b[1;32m     74\u001b[0m \u001b[0;34m\u001b[0m\u001b[0m\n",
      "\u001b[0;32m~/miniconda3/lib/python3.6/site-packages/requests/api.py\u001b[0m in \u001b[0;36mrequest\u001b[0;34m(method, url, **kwargs)\u001b[0m\n\u001b[1;32m     56\u001b[0m     \u001b[0;31m# cases, and look like a memory leak in others.\u001b[0m\u001b[0;34m\u001b[0m\u001b[0;34m\u001b[0m\u001b[0m\n\u001b[1;32m     57\u001b[0m     \u001b[0;32mwith\u001b[0m \u001b[0msessions\u001b[0m\u001b[0;34m.\u001b[0m\u001b[0mSession\u001b[0m\u001b[0;34m(\u001b[0m\u001b[0;34m)\u001b[0m \u001b[0;32mas\u001b[0m \u001b[0msession\u001b[0m\u001b[0;34m:\u001b[0m\u001b[0;34m\u001b[0m\u001b[0m\n\u001b[0;32m---> 58\u001b[0;31m         \u001b[0;32mreturn\u001b[0m \u001b[0msession\u001b[0m\u001b[0;34m.\u001b[0m\u001b[0mrequest\u001b[0m\u001b[0;34m(\u001b[0m\u001b[0mmethod\u001b[0m\u001b[0;34m=\u001b[0m\u001b[0mmethod\u001b[0m\u001b[0;34m,\u001b[0m \u001b[0murl\u001b[0m\u001b[0;34m=\u001b[0m\u001b[0murl\u001b[0m\u001b[0;34m,\u001b[0m \u001b[0;34m**\u001b[0m\u001b[0mkwargs\u001b[0m\u001b[0;34m)\u001b[0m\u001b[0;34m\u001b[0m\u001b[0m\n\u001b[0m\u001b[1;32m     59\u001b[0m \u001b[0;34m\u001b[0m\u001b[0m\n\u001b[1;32m     60\u001b[0m \u001b[0;34m\u001b[0m\u001b[0m\n",
      "\u001b[0;32m~/miniconda3/lib/python3.6/site-packages/requests/sessions.py\u001b[0m in \u001b[0;36mrequest\u001b[0;34m(self, method, url, params, data, headers, cookies, files, auth, timeout, allow_redirects, proxies, hooks, stream, verify, cert, json)\u001b[0m\n\u001b[1;32m    510\u001b[0m         }\n\u001b[1;32m    511\u001b[0m         \u001b[0msend_kwargs\u001b[0m\u001b[0;34m.\u001b[0m\u001b[0mupdate\u001b[0m\u001b[0;34m(\u001b[0m\u001b[0msettings\u001b[0m\u001b[0;34m)\u001b[0m\u001b[0;34m\u001b[0m\u001b[0m\n\u001b[0;32m--> 512\u001b[0;31m         \u001b[0mresp\u001b[0m \u001b[0;34m=\u001b[0m \u001b[0mself\u001b[0m\u001b[0;34m.\u001b[0m\u001b[0msend\u001b[0m\u001b[0;34m(\u001b[0m\u001b[0mprep\u001b[0m\u001b[0;34m,\u001b[0m \u001b[0;34m**\u001b[0m\u001b[0msend_kwargs\u001b[0m\u001b[0;34m)\u001b[0m\u001b[0;34m\u001b[0m\u001b[0m\n\u001b[0m\u001b[1;32m    513\u001b[0m \u001b[0;34m\u001b[0m\u001b[0m\n\u001b[1;32m    514\u001b[0m         \u001b[0;32mreturn\u001b[0m \u001b[0mresp\u001b[0m\u001b[0;34m\u001b[0m\u001b[0m\n",
      "\u001b[0;32m~/miniconda3/lib/python3.6/site-packages/requests/sessions.py\u001b[0m in \u001b[0;36msend\u001b[0;34m(self, request, **kwargs)\u001b[0m\n\u001b[1;32m    620\u001b[0m \u001b[0;34m\u001b[0m\u001b[0m\n\u001b[1;32m    621\u001b[0m         \u001b[0;31m# Send the request\u001b[0m\u001b[0;34m\u001b[0m\u001b[0;34m\u001b[0m\u001b[0m\n\u001b[0;32m--> 622\u001b[0;31m         \u001b[0mr\u001b[0m \u001b[0;34m=\u001b[0m \u001b[0madapter\u001b[0m\u001b[0;34m.\u001b[0m\u001b[0msend\u001b[0m\u001b[0;34m(\u001b[0m\u001b[0mrequest\u001b[0m\u001b[0;34m,\u001b[0m \u001b[0;34m**\u001b[0m\u001b[0mkwargs\u001b[0m\u001b[0;34m)\u001b[0m\u001b[0;34m\u001b[0m\u001b[0m\n\u001b[0m\u001b[1;32m    623\u001b[0m \u001b[0;34m\u001b[0m\u001b[0m\n\u001b[1;32m    624\u001b[0m         \u001b[0;31m# Total elapsed time of the request (approximately)\u001b[0m\u001b[0;34m\u001b[0m\u001b[0;34m\u001b[0m\u001b[0m\n",
      "\u001b[0;32m~/miniconda3/lib/python3.6/site-packages/requests/adapters.py\u001b[0m in \u001b[0;36msend\u001b[0;34m(self, request, stream, timeout, verify, cert, proxies)\u001b[0m\n\u001b[1;32m    443\u001b[0m                     \u001b[0mdecode_content\u001b[0m\u001b[0;34m=\u001b[0m\u001b[0;32mFalse\u001b[0m\u001b[0;34m,\u001b[0m\u001b[0;34m\u001b[0m\u001b[0m\n\u001b[1;32m    444\u001b[0m                     \u001b[0mretries\u001b[0m\u001b[0;34m=\u001b[0m\u001b[0mself\u001b[0m\u001b[0;34m.\u001b[0m\u001b[0mmax_retries\u001b[0m\u001b[0;34m,\u001b[0m\u001b[0;34m\u001b[0m\u001b[0m\n\u001b[0;32m--> 445\u001b[0;31m                     \u001b[0mtimeout\u001b[0m\u001b[0;34m=\u001b[0m\u001b[0mtimeout\u001b[0m\u001b[0;34m\u001b[0m\u001b[0m\n\u001b[0m\u001b[1;32m    446\u001b[0m                 )\n\u001b[1;32m    447\u001b[0m \u001b[0;34m\u001b[0m\u001b[0m\n",
      "\u001b[0;32m~/miniconda3/lib/python3.6/site-packages/urllib3/connectionpool.py\u001b[0m in \u001b[0;36murlopen\u001b[0;34m(self, method, url, body, headers, retries, redirect, assert_same_host, timeout, pool_timeout, release_conn, chunked, body_pos, **response_kw)\u001b[0m\n\u001b[1;32m    598\u001b[0m                                                   \u001b[0mtimeout\u001b[0m\u001b[0;34m=\u001b[0m\u001b[0mtimeout_obj\u001b[0m\u001b[0;34m,\u001b[0m\u001b[0;34m\u001b[0m\u001b[0m\n\u001b[1;32m    599\u001b[0m                                                   \u001b[0mbody\u001b[0m\u001b[0;34m=\u001b[0m\u001b[0mbody\u001b[0m\u001b[0;34m,\u001b[0m \u001b[0mheaders\u001b[0m\u001b[0;34m=\u001b[0m\u001b[0mheaders\u001b[0m\u001b[0;34m,\u001b[0m\u001b[0;34m\u001b[0m\u001b[0m\n\u001b[0;32m--> 600\u001b[0;31m                                                   chunked=chunked)\n\u001b[0m\u001b[1;32m    601\u001b[0m \u001b[0;34m\u001b[0m\u001b[0m\n\u001b[1;32m    602\u001b[0m             \u001b[0;31m# If we're going to release the connection in ``finally:``, then\u001b[0m\u001b[0;34m\u001b[0m\u001b[0;34m\u001b[0m\u001b[0m\n",
      "\u001b[0;32m~/miniconda3/lib/python3.6/site-packages/urllib3/connectionpool.py\u001b[0m in \u001b[0;36m_make_request\u001b[0;34m(self, conn, method, url, timeout, chunked, **httplib_request_kw)\u001b[0m\n\u001b[1;32m    378\u001b[0m             \u001b[0;32mexcept\u001b[0m \u001b[0mTypeError\u001b[0m\u001b[0;34m:\u001b[0m  \u001b[0;31m# Python 2.6 and older, Python 3\u001b[0m\u001b[0;34m\u001b[0m\u001b[0m\n\u001b[1;32m    379\u001b[0m                 \u001b[0;32mtry\u001b[0m\u001b[0;34m:\u001b[0m\u001b[0;34m\u001b[0m\u001b[0m\n\u001b[0;32m--> 380\u001b[0;31m                     \u001b[0mhttplib_response\u001b[0m \u001b[0;34m=\u001b[0m \u001b[0mconn\u001b[0m\u001b[0;34m.\u001b[0m\u001b[0mgetresponse\u001b[0m\u001b[0;34m(\u001b[0m\u001b[0;34m)\u001b[0m\u001b[0;34m\u001b[0m\u001b[0m\n\u001b[0m\u001b[1;32m    381\u001b[0m                 \u001b[0;32mexcept\u001b[0m \u001b[0mException\u001b[0m \u001b[0;32mas\u001b[0m \u001b[0me\u001b[0m\u001b[0;34m:\u001b[0m\u001b[0;34m\u001b[0m\u001b[0m\n\u001b[1;32m    382\u001b[0m                     \u001b[0;31m# Remove the TypeError from the exception chain in Python 3;\u001b[0m\u001b[0;34m\u001b[0m\u001b[0;34m\u001b[0m\u001b[0m\n",
      "\u001b[0;32m~/miniconda3/lib/python3.6/http/client.py\u001b[0m in \u001b[0;36mgetresponse\u001b[0;34m(self)\u001b[0m\n\u001b[1;32m   1329\u001b[0m         \u001b[0;32mtry\u001b[0m\u001b[0;34m:\u001b[0m\u001b[0;34m\u001b[0m\u001b[0m\n\u001b[1;32m   1330\u001b[0m             \u001b[0;32mtry\u001b[0m\u001b[0;34m:\u001b[0m\u001b[0;34m\u001b[0m\u001b[0m\n\u001b[0;32m-> 1331\u001b[0;31m                 \u001b[0mresponse\u001b[0m\u001b[0;34m.\u001b[0m\u001b[0mbegin\u001b[0m\u001b[0;34m(\u001b[0m\u001b[0;34m)\u001b[0m\u001b[0;34m\u001b[0m\u001b[0m\n\u001b[0m\u001b[1;32m   1332\u001b[0m             \u001b[0;32mexcept\u001b[0m \u001b[0mConnectionError\u001b[0m\u001b[0;34m:\u001b[0m\u001b[0;34m\u001b[0m\u001b[0m\n\u001b[1;32m   1333\u001b[0m                 \u001b[0mself\u001b[0m\u001b[0;34m.\u001b[0m\u001b[0mclose\u001b[0m\u001b[0;34m(\u001b[0m\u001b[0;34m)\u001b[0m\u001b[0;34m\u001b[0m\u001b[0m\n",
      "\u001b[0;32m~/miniconda3/lib/python3.6/http/client.py\u001b[0m in \u001b[0;36mbegin\u001b[0;34m(self)\u001b[0m\n\u001b[1;32m    295\u001b[0m         \u001b[0;31m# read until we get a non-100 response\u001b[0m\u001b[0;34m\u001b[0m\u001b[0;34m\u001b[0m\u001b[0m\n\u001b[1;32m    296\u001b[0m         \u001b[0;32mwhile\u001b[0m \u001b[0;32mTrue\u001b[0m\u001b[0;34m:\u001b[0m\u001b[0;34m\u001b[0m\u001b[0m\n\u001b[0;32m--> 297\u001b[0;31m             \u001b[0mversion\u001b[0m\u001b[0;34m,\u001b[0m \u001b[0mstatus\u001b[0m\u001b[0;34m,\u001b[0m \u001b[0mreason\u001b[0m \u001b[0;34m=\u001b[0m \u001b[0mself\u001b[0m\u001b[0;34m.\u001b[0m\u001b[0m_read_status\u001b[0m\u001b[0;34m(\u001b[0m\u001b[0;34m)\u001b[0m\u001b[0;34m\u001b[0m\u001b[0m\n\u001b[0m\u001b[1;32m    298\u001b[0m             \u001b[0;32mif\u001b[0m \u001b[0mstatus\u001b[0m \u001b[0;34m!=\u001b[0m \u001b[0mCONTINUE\u001b[0m\u001b[0;34m:\u001b[0m\u001b[0;34m\u001b[0m\u001b[0m\n\u001b[1;32m    299\u001b[0m                 \u001b[0;32mbreak\u001b[0m\u001b[0;34m\u001b[0m\u001b[0m\n",
      "\u001b[0;32m~/miniconda3/lib/python3.6/http/client.py\u001b[0m in \u001b[0;36m_read_status\u001b[0;34m(self)\u001b[0m\n\u001b[1;32m    256\u001b[0m \u001b[0;34m\u001b[0m\u001b[0m\n\u001b[1;32m    257\u001b[0m     \u001b[0;32mdef\u001b[0m \u001b[0m_read_status\u001b[0m\u001b[0;34m(\u001b[0m\u001b[0mself\u001b[0m\u001b[0;34m)\u001b[0m\u001b[0;34m:\u001b[0m\u001b[0;34m\u001b[0m\u001b[0m\n\u001b[0;32m--> 258\u001b[0;31m         \u001b[0mline\u001b[0m \u001b[0;34m=\u001b[0m \u001b[0mstr\u001b[0m\u001b[0;34m(\u001b[0m\u001b[0mself\u001b[0m\u001b[0;34m.\u001b[0m\u001b[0mfp\u001b[0m\u001b[0;34m.\u001b[0m\u001b[0mreadline\u001b[0m\u001b[0;34m(\u001b[0m\u001b[0m_MAXLINE\u001b[0m \u001b[0;34m+\u001b[0m \u001b[0;36m1\u001b[0m\u001b[0;34m)\u001b[0m\u001b[0;34m,\u001b[0m \u001b[0;34m\"iso-8859-1\"\u001b[0m\u001b[0;34m)\u001b[0m\u001b[0;34m\u001b[0m\u001b[0m\n\u001b[0m\u001b[1;32m    259\u001b[0m         \u001b[0;32mif\u001b[0m \u001b[0mlen\u001b[0m\u001b[0;34m(\u001b[0m\u001b[0mline\u001b[0m\u001b[0;34m)\u001b[0m \u001b[0;34m>\u001b[0m \u001b[0m_MAXLINE\u001b[0m\u001b[0;34m:\u001b[0m\u001b[0;34m\u001b[0m\u001b[0m\n\u001b[1;32m    260\u001b[0m             \u001b[0;32mraise\u001b[0m \u001b[0mLineTooLong\u001b[0m\u001b[0;34m(\u001b[0m\u001b[0;34m\"status line\"\u001b[0m\u001b[0;34m)\u001b[0m\u001b[0;34m\u001b[0m\u001b[0m\n",
      "\u001b[0;32m~/miniconda3/lib/python3.6/socket.py\u001b[0m in \u001b[0;36mreadinto\u001b[0;34m(self, b)\u001b[0m\n\u001b[1;32m    584\u001b[0m         \u001b[0;32mwhile\u001b[0m \u001b[0;32mTrue\u001b[0m\u001b[0;34m:\u001b[0m\u001b[0;34m\u001b[0m\u001b[0m\n\u001b[1;32m    585\u001b[0m             \u001b[0;32mtry\u001b[0m\u001b[0;34m:\u001b[0m\u001b[0;34m\u001b[0m\u001b[0m\n\u001b[0;32m--> 586\u001b[0;31m                 \u001b[0;32mreturn\u001b[0m \u001b[0mself\u001b[0m\u001b[0;34m.\u001b[0m\u001b[0m_sock\u001b[0m\u001b[0;34m.\u001b[0m\u001b[0mrecv_into\u001b[0m\u001b[0;34m(\u001b[0m\u001b[0mb\u001b[0m\u001b[0;34m)\u001b[0m\u001b[0;34m\u001b[0m\u001b[0m\n\u001b[0m\u001b[1;32m    587\u001b[0m             \u001b[0;32mexcept\u001b[0m \u001b[0mtimeout\u001b[0m\u001b[0;34m:\u001b[0m\u001b[0;34m\u001b[0m\u001b[0m\n\u001b[1;32m    588\u001b[0m                 \u001b[0mself\u001b[0m\u001b[0;34m.\u001b[0m\u001b[0m_timeout_occurred\u001b[0m \u001b[0;34m=\u001b[0m \u001b[0;32mTrue\u001b[0m\u001b[0;34m\u001b[0m\u001b[0m\n",
      "\u001b[0;31mKeyboardInterrupt\u001b[0m: "
     ]
    }
   ],
   "source": [
    "def download_save_from_list(list_of_filenames):\n",
    "    \n",
    "    def download_save(url, path):\n",
    "        \n",
    "        r = requests.get(url, stream=True)\n",
    "\n",
    "        if r.status_code == 200:\n",
    "            with open(path, 'wb') as f:\n",
    "                f.write(r.content)\n",
    "        \n",
    "    for filename in list_of_filenames:\n",
    "        \n",
    "        #url = 'http://www.foodstandards.gov.scot/downloads/' + filename\n",
    "        url =  url(filename)\n",
    "        path = filepath(filename)\n",
    "        #if os.path.exists(path):\n",
    "        #    continue\n",
    "\n",
    "        download_save(url, path)\n",
    "\n",
    "                print('.', end='')\n",
    "if False:\n",
    "    download_save_from_list(list_of_filenames_phytoplankton)\n",
    "    download_save_from_list(list_of_filenames_e_coli)\n",
    "    download_save_from_list(list_of_filenames_biotoxin)\n"
   ]
  },
  {
   "cell_type": "markdown",
   "metadata": {},
   "source": [
    "# Local filenames"
   ]
  },
  {
   "cell_type": "markdown",
   "metadata": {},
   "source": [
    "## Campbeltown Loch - Shellfish Phytoplankton"
   ]
  },
  {
   "cell_type": "code",
   "execution_count": 4,
   "metadata": {},
   "outputs": [],
   "source": [
    "filesnames_all = os.listdir(data_dir_path)\n",
    "\n",
    "filesnames_shellfish = [f for f in filesnames_all if f.startswith('Shellfish')]\n",
    "\n",
    "filenames_shellfish_phytoplankton = [f for f in filesnames_shellfish if f.startswith('Shellfish_-_Phytoplankton_')]\n",
    "filenames_shellfish_e_coli = [f for f in filesnames_shellfish if f.startswith('Shellfish_-_E._coli_')]\n",
    "filenames_shellfish_biotoxin = [f for f in filesnames_shellfish if f.startswith('Shellfish_-_Biotoxin_')]\n",
    "\n",
    "header = ['Region'\n",
    "     , 'Area'\n",
    "     , 'Site'\n",
    "     , 'Origin of Sample'\n",
    "     , 'NGR'\n",
    "     , 'SIN'\n",
    "     , 'Sample'\n",
    "     , 'Collected'\n",
    "     , 'Received'\n",
    "     , 'Analyzed'\n",
    "     , 'Pseudo-nitzschia'\n",
    "     , 'Alexandrium'\n",
    "     , 'Dinophysis'\n",
    "     , 'prorocentrum_lima'\n",
    "     , 'prorocentrum_cordatum'\n",
    "     , 'Lingulodinium'\n",
    "     , 'Protoceratium']\n",
    "\n",
    "header_pyhtoplanktons = header[10:]\n",
    "header_pyhtoplanktons_trig = header[10:-3]\n",
    "header_pyhtoplanktons_no_trig = header[-3:]\n",
    "\n",
    "triggers = [50000, 40, 100, 100]\n",
    "\n",
    "def read_pyhtoplankton_(data_dir_path):\n",
    "    \n",
    "    pyhtoplankton_list = []\n",
    "    for f in filenames_shellfish_phytoplankton:\n",
    "\n",
    "        phytoplankton_period = pd.read_excel(os.path.join(data_dir_path, f), skiprows=[0, 1, 2, 3], header=None)\n",
    "        pyhtoplankton_list.append(phytoplankton_period)\n",
    "        \n",
    "    return pd.concat(pyhtoplankton_list)\n",
    "\n",
    "    \n",
    "def read_pyhtoplankton(header, data_dir_path):\n",
    "\n",
    "    pyhtoplankton = read_pyhtoplankton_(data_dir_path)\n",
    "        \n",
    "    pyhtoplankton.columns = header\n",
    "    \n",
    "    pyhtoplankton['Region'] = pyhtoplankton.Region.fillna(method='ffill')\n",
    "    pyhtoplankton['Collected'] = pd.to_datetime(pyhtoplankton['Collected'])\n",
    "    return pyhtoplankton\n",
    "\n",
    "pyhtoplankton = read_pyhtoplankton(header=header, data_dir_path=data_dir_path)\n",
    "\n",
    "def select_area(area, pyhtoplankton):\n",
    "\n",
    "    pyhtoplankton_area = pyhtoplankton[pyhtoplankton['Area']==area]\n",
    "    pyhtoplankton_area = pyhtoplankton_area.set_index('Collected')\n",
    "    \n",
    "    return pyhtoplankton_area\n",
    "    \n",
    "pyhtoplankton_ct = select_area('Campbeltown Loch', pyhtoplankton)"
   ]
  },
  {
   "cell_type": "code",
   "execution_count": 5,
   "metadata": {
    "scrolled": false
   },
   "outputs": [
    {
     "data": {
      "image/png": "[encoded data removed]",
      "text/plain": [
       "<Figure size 1440x720 with 1 Axes>"
      ]
     },
     "metadata": {},
     "output_type": "display_data"
    }
   ],
   "source": [
    "def plot_pyhtoplankton(pyhtoplankton):\n",
    "    ax = pyhtoplankton.plot.bar(y=header_pyhtoplanktons, figsize=(20, 10), grid=True, logy=True, label=False)\n",
    "    ax.legend(loc=0, fontsize=14)\n",
    "    ax.set_title(label=\"Phytoplankton\", fontsize=20)\n",
    "    \n",
    "plot_pyhtoplankton(pyhtoplankton_ct)"
   ]
  },
  {
   "cell_type": "code",
   "execution_count": 6,
   "metadata": {},
   "outputs": [
    {
     "data": {
      "image/png": "[encoded data removed]",
      "text/plain": [
       "<Figure size 1440x720 with 1 Axes>"
      ]
     },
     "metadata": {},
     "output_type": "display_data"
    }
   ],
   "source": [
    "def plot_pyhtoplankton_no_trig(pyhtoplankton, header_pyhtoplanktons_no_trig):\n",
    "    pyhtoplankton_no_trig = pyhtoplankton[header_pyhtoplanktons_no_trig]\n",
    "    ax = pyhtoplankton_no_trig.plot.bar(figsize=(20, 10), grid=True, logy=True, ylim=(1, 1000))\n",
    "    ax.set_title(label=\"Phytoplankton\\nno trigger\", fontsize=20)\n",
    "    \n",
    "plot_pyhtoplankton_no_trig(pyhtoplankton_ct, header_pyhtoplanktons_no_trig)"
   ]
  },
  {
   "cell_type": "code",
   "execution_count": 7,
   "metadata": {},
   "outputs": [
    {
     "data": {
      "image/png": "[encoded data removed]",
      "text/plain": [
       "<Figure size 1440x720 with 1 Axes>"
      ]
     },
     "metadata": {},
     "output_type": "display_data"
    }
   ],
   "source": [
    "def plot_pyhtoplankton_trig(pyhtoplankton, header_pyhtoplanktons_trig):\n",
    "    pyhtoplankton_ct_trig = pyhtoplankton[header_pyhtoplanktons_trig]\n",
    "    pyhtoplankton_ct_trig_norm = pyhtoplankton_ct_trig / triggers\n",
    "    \n",
    "    ax  = pyhtoplankton_ct_trig_norm.plot.bar(figsize=(20, 10)\n",
    "                                      , grid=True\n",
    "                                      , fontsize=20)\n",
    "\n",
    "    ax.set_title(label=\"Phytoplankton\\nscaled by trigger\", fontsize=20)\n",
    "    ax.legend(fontsize=20, loc=0)\n",
    "\n",
    "plot_pyhtoplankton_trig(pyhtoplankton_ct, header_pyhtoplanktons_trig)"
   ]
  },
  {
   "cell_type": "markdown",
   "metadata": {},
   "source": [
    "# E. Coli\n"
   ]
  },
  {
   "cell_type": "code",
   "execution_count": 8,
   "metadata": {},
   "outputs": [],
   "source": [
    "def read_e_coli_():\n",
    "\n",
    "    e_coli_list = []\n",
    "    for f in filenames_shellfish_e_coli:\n",
    "        e_coli_list.append(\n",
    "            pd.read_excel(os.path.join(data_dir_path\n",
    "        , f))\n",
    "        )\n",
    "\n",
    "    return pd.concat(e_coli_list)\n",
    "\n",
    "def read_e_coli():\n",
    "    e_coli = read_e_coli_()\n",
    "    e_coli['Collection Date'] = pd.to_datetime(e_coli['Collection Date'])\n",
    "    e_coli = e_coli.set_index('Collection Date')\n",
    "    return e_coli\n",
    "\n",
    "e_coli = read_e_coli()\n",
    "\n",
    "def e_coli_select_area(e_coli):\n",
    "    return e_coli[e_coli['Production Area'] == 'Loch na Cille']\n",
    "    \n",
    "e_coli_ct = e_coli_select_area(e_coli)"
   ]
  },
  {
   "cell_type": "code",
   "execution_count": 9,
   "metadata": {},
   "outputs": [
    {
     "data": {
      "text/plain": [
       "Index(['Sample number', 'Site SIN Number', 'Local Authority',\n",
       "       'Production Area', 'Site Name', 'SIN', 'Sample For Fast Track',\n",
       "       'Sample Species', 'OS Grid Reference', 'Water Temp', 'Sample Source',\n",
       "       'Lab Received Date', 'Arrival Temp', 'Test Date', 'Ecoli/100g',\n",
       "       'Result Classification', 'Current Area Classification', 'UKAS No',\n",
       "       'Investigative/Resample', 'Date reported to FSA', 'Sample Rejected',\n",
       "       'Sample rejected reason', 'Improbable combination',\n",
       "       'Improbable combination value', 'Harvester's Own Results'],\n",
       "      dtype='object')"
      ]
     },
     "execution_count": 9,
     "metadata": {},
     "output_type": "execute_result"
    }
   ],
   "source": [
    "e_coli_ct.columns"
   ]
  },
  {
   "cell_type": "code",
   "execution_count": 10,
   "metadata": {},
   "outputs": [
    {
     "data": {
      "text/plain": [
       "<matplotlib.axes._subplots.AxesSubplot at 0x78a6ac156780>"
      ]
     },
     "execution_count": 10,
     "metadata": {},
     "output_type": "execute_result"
    },
    {
     "data": {
      "image/png": "[encoded data removed]",
      "text/plain": [
       "<Figure size 432x288 with 1 Axes>"
      ]
     },
     "metadata": {},
     "output_type": "display_data"
    }
   ],
   "source": [
    "e_coli_ct.plot.bar(y=['Ecoli/100g'])"
   ]
  },
  {
   "cell_type": "code",
   "execution_count": 11,
   "metadata": {},
   "outputs": [
    {
     "data": {
      "text/plain": [
       "Sample number                                   18/1021\n",
       "Site SIN Number                          AB 617 1204 04\n",
       "Local Authority                 Argyll and Bute Council\n",
       "Production Area                           Loch na Cille\n",
       "Site Name                         Loch na Cille Cockles\n",
       "SIN                                      AB 617 1204 04\n",
       "Sample For Fast Track                             False\n",
       "Sample Species                           Common cockles\n",
       "OS Grid Reference                         NM84146 12537\n",
       "Water Temp                                         16.9\n",
       "Sample Source                                hand raked\n",
       "Lab Received Date                   2018-07-18 00:00:00\n",
       "Arrival Temp                                        2.7\n",
       "Test Date                           2018-07-18 00:00:00\n",
       "Ecoli/100g                                        16000\n",
       "Result Classification                                 C\n",
       "Current Area Classification                           C\n",
       "UKAS No                                            2293\n",
       "Investigative/Resample                            False\n",
       "Date reported to FSA                2018-07-23 00:00:00\n",
       "Sample Rejected                                   False\n",
       "Sample rejected reason                              NaN\n",
       "Improbable combination                            False\n",
       "Improbable combination value                        NaN\n",
       "Harvester's Own Results                           False\n",
       "Name: 2018-07-17 00:00:00, dtype: object"
      ]
     },
     "execution_count": 11,
     "metadata": {},
     "output_type": "execute_result"
    }
   ],
   "source": [
    "e_coli_ct.iloc[0]"
   ]
  },
  {
   "cell_type": "markdown",
   "metadata": {},
   "source": [
    "# Biotoxin\n",
    "\n",
    "[Biotoxins are substances which are both toxic and have a biological origin. ](http://www.biosciences-labs.bham.ac.uk/exhibit/whatare.html)"
   ]
  },
  {
   "cell_type": "code",
   "execution_count": 12,
   "metadata": {
    "scrolled": false
   },
   "outputs": [],
   "source": [
    "def read_biotoxin_():\n",
    "    biotoxin_list = []\n",
    "    for f in filenames_shellfish_biotoxin:\n",
    "        biotoxin_list.append(pd.read_excel(os.path.join(data_dir_path, f)))\n",
    "    return pd.concat(biotoxin_list)\n",
    "\n",
    "def read_biotoxin():\n",
    "    biotoxin = read_biotoxin_()\n",
    "    biotoxin['Date Collected'] = pd.to_datetime(biotoxin['Date Collected']) \n",
    "    biotoxin = biotoxin.set_index('Date Collected')\n",
    "    #biotoxin = biotoxin.fillna(0)\n",
    "    return biotoxin\n",
    "\n",
    "biotoxin = read_biotoxin()\n",
    "\n",
    "def biotoxin_select_area(biotoxin, area):\n",
    "\n",
    "    biotoxin_ct = biotoxin[biotoxin['Production Area'] == area]\n",
    "    biotoxin_ct = biotoxin_ct.sort_index()\n",
    "    \n",
    "    return biotoxin_ct\n",
    "    \n",
    "biotoxin_ct = biotoxin_select_area(biotoxin, 'Loch na Cille')"
   ]
  },
  {
   "cell_type": "code",
   "execution_count": 13,
   "metadata": {
    "scrolled": true
   },
   "outputs": [
    {
     "data": {
      "text/plain": [
       "Date Collected\n",
       "2018-06-27    Common mussels\n",
       "2018-07-02    Common mussels\n",
       "2018-07-11    Common mussels\n",
       "2018-07-11    Common mussels\n",
       "2018-07-17    Common mussels\n",
       "2018-07-17    Common mussels\n",
       "2018-07-22    Common mussels\n",
       "2018-07-30    Common mussels\n",
       "Name: Species, dtype: object"
      ]
     },
     "execution_count": 13,
     "metadata": {},
     "output_type": "execute_result"
    }
   ],
   "source": [
    "biotoxin_ct['Species']"
   ]
  },
  {
   "cell_type": "code",
   "execution_count": 14,
   "metadata": {},
   "outputs": [
    {
     "data": {
      "text/plain": [
       "Date Collected\n",
       "2018-06-27    <400\n",
       "2018-07-02     NaN\n",
       "2018-07-11    <400\n",
       "2018-07-11    <400\n",
       "2018-07-17     NaN\n",
       "2018-07-17     NaN\n",
       "2018-07-22     NaN\n",
       "2018-07-30    <400\n",
       "Name: PSP_HPLC (µg STXeq/kg) Semiquant result_<400-≥400, dtype: object"
      ]
     },
     "execution_count": 14,
     "metadata": {},
     "output_type": "execute_result"
    }
   ],
   "source": [
    "biotoxin_ct['PSP_HPLC (µg STXeq/kg) Semiquant result_<400-≥400']"
   ]
  },
  {
   "cell_type": "code",
   "execution_count": 15,
   "metadata": {
    "scrolled": true
   },
   "outputs": [
    {
     "data": {
      "text/plain": [
       "Date Collected\n",
       "2018-06-27    <RL\n",
       "2018-07-02    NaN\n",
       "2018-07-11    <RL\n",
       "2018-07-11    <RL\n",
       "2018-07-17    NaN\n",
       "2018-07-17    NaN\n",
       "2018-07-22    NaN\n",
       "2018-07-30    <RL\n",
       "Name: PSP_HPLC (µg STXeq/kg) Quant_highvalue_result, dtype: object"
      ]
     },
     "execution_count": 15,
     "metadata": {},
     "output_type": "execute_result"
    }
   ],
   "source": [
    "biotoxin_ct['PSP_HPLC (µg STXeq/kg) Quant_highvalue_result']"
   ]
  },
  {
   "cell_type": "code",
   "execution_count": 16,
   "metadata": {
    "scrolled": true
   },
   "outputs": [
    {
     "data": {
      "text/plain": [
       "Date Collected\n",
       "2018-06-27    Common mussels\n",
       "2018-07-02    Common mussels\n",
       "2018-07-11    Common mussels\n",
       "2018-07-11    Common mussels\n",
       "2018-07-17    Common mussels\n",
       "2018-07-17    Common mussels\n",
       "2018-07-22    Common mussels\n",
       "2018-07-30    Common mussels\n",
       "Name: Species, dtype: object"
      ]
     },
     "execution_count": 16,
     "metadata": {},
     "output_type": "execute_result"
    }
   ],
   "source": [
    "biotoxin_ct.iloc[:, 8]"
   ]
  },
  {
   "cell_type": "code",
   "execution_count": 17,
   "metadata": {
    "scrolled": true
   },
   "outputs": [
    {
     "data": {
      "text/plain": [
       "Date Collected\n",
       "2018-06-27    Detected\n",
       "2018-07-02          ND\n",
       "2018-07-11    Detected\n",
       "2018-07-11    Detected\n",
       "2018-07-17         NaN\n",
       "2018-07-17         NaN\n",
       "2018-07-22         NaN\n",
       "2018-07-30    Detected\n",
       "Name: PSPScreenbyHPLC_ND-DETECTED, dtype: object"
      ]
     },
     "execution_count": 17,
     "metadata": {},
     "output_type": "execute_result"
    }
   ],
   "source": [
    "biotoxin_ct.iloc[:, 9]"
   ]
  },
  {
   "cell_type": "code",
   "execution_count": 18,
   "metadata": {
    "scrolled": true
   },
   "outputs": [
    {
     "data": {
      "text/plain": [
       "Date Collected\n",
       "2018-06-27    <400\n",
       "2018-07-02     NaN\n",
       "2018-07-11    <400\n",
       "2018-07-11    <400\n",
       "2018-07-17     NaN\n",
       "2018-07-17     NaN\n",
       "2018-07-22     NaN\n",
       "2018-07-30    <400\n",
       "Name: PSP_HPLC (µg STXeq/kg) Semiquant result_<400-≥400, dtype: object"
      ]
     },
     "execution_count": 18,
     "metadata": {},
     "output_type": "execute_result"
    }
   ],
   "source": [
    "biotoxin_ct.iloc[:, 10]"
   ]
  },
  {
   "cell_type": "code",
   "execution_count": 19,
   "metadata": {
    "scrolled": true
   },
   "outputs": [
    {
     "data": {
      "text/plain": [
       "Date Collected\n",
       "2018-06-27    <RL\n",
       "2018-07-02    NaN\n",
       "2018-07-11    <RL\n",
       "2018-07-11    <RL\n",
       "2018-07-17    NaN\n",
       "2018-07-17    NaN\n",
       "2018-07-22    NaN\n",
       "2018-07-30    <RL\n",
       "Name: PSP_HPLC (µg STXeq/kg) Quant_highvalue_result, dtype: object"
      ]
     },
     "execution_count": 19,
     "metadata": {},
     "output_type": "execute_result"
    }
   ],
   "source": [
    "biotoxin_ct.iloc[:, 12]"
   ]
  },
  {
   "cell_type": "code",
   "execution_count": 20,
   "metadata": {
    "scrolled": true
   },
   "outputs": [
    {
     "data": {
      "text/plain": [
       "Date Collected\n",
       "2018-06-27   NaN\n",
       "2018-07-02   NaN\n",
       "2018-07-11   NaN\n",
       "2018-07-11   NaN\n",
       "2018-07-17   NaN\n",
       "2018-07-17   NaN\n",
       "2018-07-22   NaN\n",
       "2018-07-30   NaN\n",
       "Name: PSP_by_MBA_(µg STXeq/kg), dtype: float64"
      ]
     },
     "execution_count": 20,
     "metadata": {},
     "output_type": "execute_result"
    }
   ],
   "source": [
    "biotoxin_ct.iloc[:, 14]"
   ]
  },
  {
   "cell_type": "code",
   "execution_count": 21,
   "metadata": {
    "scrolled": true
   },
   "outputs": [
    {
     "data": {
      "text/plain": [
       "Date Collected\n",
       "2018-06-27     92\n",
       "2018-07-02     60\n",
       "2018-07-11     64\n",
       "2018-07-11     64\n",
       "2018-07-17    169\n",
       "2018-07-17    169\n",
       "2018-07-22    122\n",
       "2018-07-30    181\n",
       "Name: Total OA/DTXs/PTXs (µg OA eq/kg) - HIGH value result, dtype: object"
      ]
     },
     "execution_count": 21,
     "metadata": {},
     "output_type": "execute_result"
    }
   ],
   "source": [
    "biotoxin_ct.iloc[:, 16]"
   ]
  },
  {
   "cell_type": "code",
   "execution_count": 22,
   "metadata": {},
   "outputs": [
    {
     "data": {
      "text/plain": [
       "<matplotlib.axes._subplots.AxesSubplot at 0x78a6a9246c88>"
      ]
     },
     "execution_count": 22,
     "metadata": {},
     "output_type": "execute_result"
    },
    {
     "data": {
      "image/png": "[encoded data removed]",
      "text/plain": [
       "<Figure size 1440x720 with 1 Axes>"
      ]
     },
     "metadata": {},
     "output_type": "display_data"
    }
   ],
   "source": [
    "pd.DataFrame(biotoxin_ct.iloc[:, 16]).plot.bar(figsize=(20, 10), grid=True)"
   ]
  },
  {
   "cell_type": "code",
   "execution_count": 23,
   "metadata": {},
   "outputs": [
    {
     "data": {
      "text/plain": [
       "Date Collected\n",
       "2018-06-27    <RL\n",
       "2018-07-02    <RL\n",
       "2018-07-11    <RL\n",
       "2018-07-11    <RL\n",
       "2018-07-17    <RL\n",
       "2018-07-17    <RL\n",
       "2018-07-22    <RL\n",
       "2018-07-30    <RL\n",
       "Name: Total AZAs (µg AZA1 eq/kg) - HIGH value result, dtype: object"
      ]
     },
     "execution_count": 23,
     "metadata": {},
     "output_type": "execute_result"
    }
   ],
   "source": [
    "biotoxin_ct.iloc[:, 17]"
   ]
  },
  {
   "cell_type": "code",
   "execution_count": 24,
   "metadata": {},
   "outputs": [
    {
     "data": {
      "text/plain": [
       "Date Collected\n",
       "2018-06-27    <RL\n",
       "2018-07-02    <RL\n",
       "2018-07-11    0.1\n",
       "2018-07-11    0.1\n",
       "2018-07-17      1\n",
       "2018-07-17      1\n",
       "2018-07-22    0.2\n",
       "2018-07-30    0.3\n",
       "Name: Total YTXs (mg YTX eq/kg) - HIGH value result, dtype: object"
      ]
     },
     "execution_count": 24,
     "metadata": {},
     "output_type": "execute_result"
    }
   ],
   "source": [
    "biotoxin_ct.iloc[:, 18]"
   ]
  },
  {
   "cell_type": "code",
   "execution_count": 25,
   "metadata": {},
   "outputs": [
    {
     "data": {
      "text/plain": [
       "Date Collected\n",
       "2018-06-27   NaN\n",
       "2018-07-02   NaN\n",
       "2018-07-11   NaN\n",
       "2018-07-11   NaN\n",
       "2018-07-17   NaN\n",
       "2018-07-17   NaN\n",
       "2018-07-22   NaN\n",
       "2018-07-30   NaN\n",
       "Name: DSP BY MBA_NG-PS, dtype: float64"
      ]
     },
     "execution_count": 25,
     "metadata": {},
     "output_type": "execute_result"
    }
   ],
   "source": [
    "biotoxin_ct.iloc[:, 20]"
   ]
  },
  {
   "cell_type": "code",
   "execution_count": 26,
   "metadata": {},
   "outputs": [
    {
     "data": {
      "text/plain": [
       "Date Collected\n",
       "2018-06-27     NaN\n",
       "2018-07-02    <LOQ\n",
       "2018-07-11     NaN\n",
       "2018-07-11     NaN\n",
       "2018-07-17     NaN\n",
       "2018-07-17     NaN\n",
       "2018-07-22     NaN\n",
       "2018-07-30    <LOQ\n",
       "Name: ASP\\n(mg /kg) , dtype: object"
      ]
     },
     "execution_count": 26,
     "metadata": {},
     "output_type": "execute_result"
    }
   ],
   "source": [
    "biotoxin_ct.iloc[:, 22]"
   ]
  },
  {
   "cell_type": "markdown",
   "metadata": {},
   "source": [
    "# Map\n",
    "\n",
    "http://geo.holoviews.org/Working_with_Bokeh.html\n",
    "\n",
    "https://scipython.com/book/chapter-2-the-core-python-language-i/additional-problems/converting-between-an-os-grid-reference-and-longitudelatitude/\n",
    "\n",
    "https://stackoverflow.com/questions/39117276/python-to-convert-map-reference-to-latitude-longitude\n",
    "\n",
    "http://www.bigendiandata.com/2017-06-27-Mapping_in_Jupyter/"
   ]
  },
  {
   "cell_type": "code",
   "execution_count": 7,
   "metadata": {},
   "outputs": [
    {
     "ename": "AttributeError",
     "evalue": "module 'numpy' has no attribute '__version__'",
     "output_type": "error",
     "traceback": [
      "\u001b[0;31m---------------------------------------------------------------------------\u001b[0m",
      "\u001b[0;31mAttributeError\u001b[0m                            Traceback (most recent call last)",
      "\u001b[0;32m<ipython-input-7-068a53782480>\u001b[0m in \u001b[0;36m<module>\u001b[0;34m()\u001b[0m\n\u001b[1;32m      1\u001b[0m \u001b[0;31m# http://geo.holoviews.org/Working_with_Bokeh.html\u001b[0m\u001b[0;34m\u001b[0m\u001b[0;34m\u001b[0m\u001b[0m\n\u001b[1;32m      2\u001b[0m \u001b[0;34m\u001b[0m\u001b[0m\n\u001b[0;32m----> 3\u001b[0;31m \u001b[0;32mimport\u001b[0m \u001b[0mxarray\u001b[0m \u001b[0;32mas\u001b[0m \u001b[0mxr\u001b[0m\u001b[0;34m\u001b[0m\u001b[0m\n\u001b[0m\u001b[1;32m      4\u001b[0m \u001b[0;32mimport\u001b[0m \u001b[0mnumpy\u001b[0m \u001b[0;32mas\u001b[0m \u001b[0mnp\u001b[0m\u001b[0;34m\u001b[0m\u001b[0m\n\u001b[1;32m      5\u001b[0m \u001b[0;32mimport\u001b[0m \u001b[0mpandas\u001b[0m \u001b[0;32mas\u001b[0m \u001b[0mpd\u001b[0m\u001b[0;34m\u001b[0m\u001b[0m\n",
      "\u001b[0;32m~/miniconda3/lib/python3.6/site-packages/xarray/__init__.py\u001b[0m in \u001b[0;36m<module>\u001b[0;34m()\u001b[0m\n\u001b[1;32m      8\u001b[0m \u001b[0;32mdel\u001b[0m \u001b[0mget_versions\u001b[0m\u001b[0;34m\u001b[0m\u001b[0m\n\u001b[1;32m      9\u001b[0m \u001b[0;34m\u001b[0m\u001b[0m\n\u001b[0;32m---> 10\u001b[0;31m \u001b[0;32mfrom\u001b[0m \u001b[0;34m.\u001b[0m\u001b[0mcore\u001b[0m\u001b[0;34m.\u001b[0m\u001b[0malignment\u001b[0m \u001b[0;32mimport\u001b[0m \u001b[0malign\u001b[0m\u001b[0;34m,\u001b[0m \u001b[0mbroadcast\u001b[0m\u001b[0;34m,\u001b[0m \u001b[0mbroadcast_arrays\u001b[0m\u001b[0;34m\u001b[0m\u001b[0m\n\u001b[0m\u001b[1;32m     11\u001b[0m \u001b[0;32mfrom\u001b[0m \u001b[0;34m.\u001b[0m\u001b[0mcore\u001b[0m\u001b[0;34m.\u001b[0m\u001b[0mcommon\u001b[0m \u001b[0;32mimport\u001b[0m \u001b[0mfull_like\u001b[0m\u001b[0;34m,\u001b[0m \u001b[0mzeros_like\u001b[0m\u001b[0;34m,\u001b[0m \u001b[0mones_like\u001b[0m\u001b[0;34m\u001b[0m\u001b[0m\n\u001b[1;32m     12\u001b[0m \u001b[0;32mfrom\u001b[0m \u001b[0;34m.\u001b[0m\u001b[0mcore\u001b[0m\u001b[0;34m.\u001b[0m\u001b[0mcombine\u001b[0m \u001b[0;32mimport\u001b[0m \u001b[0mconcat\u001b[0m\u001b[0;34m,\u001b[0m \u001b[0mauto_combine\u001b[0m\u001b[0;34m\u001b[0m\u001b[0m\n",
      "\u001b[0;32m~/miniconda3/lib/python3.6/site-packages/xarray/core/alignment.py\u001b[0m in \u001b[0;36m<module>\u001b[0;34m()\u001b[0m\n\u001b[1;32m      8\u001b[0m \u001b[0;32mimport\u001b[0m \u001b[0mnumpy\u001b[0m \u001b[0;32mas\u001b[0m \u001b[0mnp\u001b[0m\u001b[0;34m\u001b[0m\u001b[0m\n\u001b[1;32m      9\u001b[0m \u001b[0;34m\u001b[0m\u001b[0m\n\u001b[0;32m---> 10\u001b[0;31m \u001b[0;32mfrom\u001b[0m \u001b[0;34m.\u001b[0m \u001b[0;32mimport\u001b[0m \u001b[0mutils\u001b[0m\u001b[0;34m\u001b[0m\u001b[0m\n\u001b[0m\u001b[1;32m     11\u001b[0m \u001b[0;32mfrom\u001b[0m \u001b[0;34m.\u001b[0m\u001b[0mindexing\u001b[0m \u001b[0;32mimport\u001b[0m \u001b[0mget_indexer_nd\u001b[0m\u001b[0;34m\u001b[0m\u001b[0m\n\u001b[1;32m     12\u001b[0m \u001b[0;32mfrom\u001b[0m \u001b[0;34m.\u001b[0m\u001b[0mpycompat\u001b[0m \u001b[0;32mimport\u001b[0m \u001b[0mOrderedDict\u001b[0m\u001b[0;34m,\u001b[0m \u001b[0miteritems\u001b[0m\u001b[0;34m,\u001b[0m \u001b[0msuppress\u001b[0m\u001b[0;34m\u001b[0m\u001b[0m\n",
      "\u001b[0;32m~/miniconda3/lib/python3.6/site-packages/xarray/core/utils.py\u001b[0m in \u001b[0;36m<module>\u001b[0;34m()\u001b[0m\n\u001b[1;32m     11\u001b[0m \u001b[0;34m\u001b[0m\u001b[0m\n\u001b[1;32m     12\u001b[0m \u001b[0;32mimport\u001b[0m \u001b[0mnumpy\u001b[0m \u001b[0;32mas\u001b[0m \u001b[0mnp\u001b[0m\u001b[0;34m\u001b[0m\u001b[0m\n\u001b[0;32m---> 13\u001b[0;31m \u001b[0;32mimport\u001b[0m \u001b[0mpandas\u001b[0m \u001b[0;32mas\u001b[0m \u001b[0mpd\u001b[0m\u001b[0;34m\u001b[0m\u001b[0m\n\u001b[0m\u001b[1;32m     14\u001b[0m \u001b[0;34m\u001b[0m\u001b[0m\n\u001b[1;32m     15\u001b[0m \u001b[0;32mfrom\u001b[0m \u001b[0;34m.\u001b[0m\u001b[0moptions\u001b[0m \u001b[0;32mimport\u001b[0m \u001b[0mOPTIONS\u001b[0m\u001b[0;34m\u001b[0m\u001b[0m\n",
      "\u001b[0;32m~/miniconda3/lib/python3.6/site-packages/pandas/__init__.py\u001b[0m in \u001b[0;36m<module>\u001b[0;34m()\u001b[0m\n\u001b[1;32m     21\u001b[0m \u001b[0;34m\u001b[0m\u001b[0m\n\u001b[1;32m     22\u001b[0m \u001b[0;31m# numpy compat\u001b[0m\u001b[0;34m\u001b[0m\u001b[0;34m\u001b[0m\u001b[0m\n\u001b[0;32m---> 23\u001b[0;31m \u001b[0;32mfrom\u001b[0m \u001b[0mpandas\u001b[0m\u001b[0;34m.\u001b[0m\u001b[0mcompat\u001b[0m\u001b[0;34m.\u001b[0m\u001b[0mnumpy\u001b[0m \u001b[0;32mimport\u001b[0m \u001b[0;34m*\u001b[0m\u001b[0;34m\u001b[0m\u001b[0m\n\u001b[0m\u001b[1;32m     24\u001b[0m \u001b[0;34m\u001b[0m\u001b[0m\n\u001b[1;32m     25\u001b[0m \u001b[0;32mtry\u001b[0m\u001b[0;34m:\u001b[0m\u001b[0;34m\u001b[0m\u001b[0m\n",
      "\u001b[0;32m~/miniconda3/lib/python3.6/site-packages/pandas/compat/numpy/__init__.py\u001b[0m in \u001b[0;36m<module>\u001b[0;34m()\u001b[0m\n\u001b[1;32m      8\u001b[0m \u001b[0;34m\u001b[0m\u001b[0m\n\u001b[1;32m      9\u001b[0m \u001b[0;31m# numpy versioning\u001b[0m\u001b[0;34m\u001b[0m\u001b[0;34m\u001b[0m\u001b[0m\n\u001b[0;32m---> 10\u001b[0;31m \u001b[0m_np_version\u001b[0m \u001b[0;34m=\u001b[0m \u001b[0mnp\u001b[0m\u001b[0;34m.\u001b[0m\u001b[0m__version__\u001b[0m\u001b[0;34m\u001b[0m\u001b[0m\n\u001b[0m\u001b[1;32m     11\u001b[0m \u001b[0m_nlv\u001b[0m \u001b[0;34m=\u001b[0m \u001b[0mLooseVersion\u001b[0m\u001b[0;34m(\u001b[0m\u001b[0m_np_version\u001b[0m\u001b[0;34m)\u001b[0m\u001b[0;34m\u001b[0m\u001b[0m\n\u001b[1;32m     12\u001b[0m \u001b[0m_np_version_under1p10\u001b[0m \u001b[0;34m=\u001b[0m \u001b[0m_nlv\u001b[0m \u001b[0;34m<\u001b[0m \u001b[0mLooseVersion\u001b[0m\u001b[0;34m(\u001b[0m\u001b[0;34m'1.10'\u001b[0m\u001b[0;34m)\u001b[0m\u001b[0;34m\u001b[0m\u001b[0m\n",
      "\u001b[0;31mAttributeError\u001b[0m: module 'numpy' has no attribute '__version__'"
     ]
    }
   ],
   "source": [
    "# http://geo.holoviews.org/Working_with_Bokeh.html\n",
    "\n",
    "import xarray as xr\n",
    "import numpy as np\n",
    "import pandas as pd\n",
    "import holoviews as hv\n",
    "import geoviews as gv\n",
    "import geoviews.feature as gf\n",
    "\n",
    "import cartopy\n",
    "from cartopy import crs as ccrs\n",
    "\n",
    "from bokeh.tile_providers import STAMEN_TONER\n",
    "from bokeh.models import WMTSTileSource\n",
    "\n",
    "hv.notebook_extension('bokeh')"
   ]
  },
  {
   "cell_type": "code",
   "execution_count": null,
   "metadata": {},
   "outputs": [],
   "source": []
  }
 ],
 "metadata": {
  "kernelspec": {
   "display_name": "Python [conda env:miniconda3]",
   "language": "python",
   "name": "conda-env-miniconda3-py"
  },
  "language_info": {
   "codemirror_mode": {
    "name": "ipython",
    "version": 3
   },
   "file_extension": ".py",
   "mimetype": "text/x-python",
   "name": "python",
   "nbconvert_exporter": "python",
   "pygments_lexer": "ipython3",
   "version": "3.6.5"
  }
 },
 "nbformat": 4,
 "nbformat_minor": 2
}
