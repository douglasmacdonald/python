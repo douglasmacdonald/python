{
 "cells": [
  {
   "cell_type": "code",
   "execution_count": null,
   "metadata": {},
   "outputs": [],
   "source": [
    "if False:\n",
    "    # Create strings that could have been used.\n",
    "    list_of_potential_filenames_phytoplankton = wq.create_list_of_potential_filenames(format_str_phytoplankton)\n",
    "    list_of_potential_filenames_e_coli = wq.create_list_of_potential_filenames(format_str_e_coli)\n",
    "    list_of_potential_filenames_biotoxin = wq.create_list_of_potential_filenames(format_str_biotoxin)\n",
    "\n",
    "if False:\n",
    "    # Remove from list if the file exists locally.\n",
    "    list_of_filenames_phytoplankton = filter_out_exiting_filesnames(list_of_potential_filenames_phytoplankton)\n",
    "    list_of_filenames_e_coli = filter_out_exiting_filesnames(list_of_potential_filenames_e_coli)\n",
    "    list_of_filenames_biotoxin = filter_out_exiting_filesnames(list_of_potential_filenames_biotoxin)\n",
    "\n",
    "    \n",
    "# Create lists of the downloaded data files.\n",
    "\n",
    "(list_of_data_files_phytoplankton\n",
    ", list_of_data_files_e_coli\n",
    ", list_of_data_files_biotoxin) = wq.run_get_list_of_data_files()"
   ]
  }
 ],
 "metadata": {
  "kernelspec": {
   "display_name": "Python [default]",
   "language": "python",
   "name": "python3"
  },
  "language_info": {
   "codemirror_mode": {
    "name": "ipython",
    "version": 3
   },
   "file_extension": ".py",
   "mimetype": "text/x-python",
   "name": "python",
   "nbconvert_exporter": "python",
   "pygments_lexer": "ipython3",
   "version": "3.6.5"
  }
 },
 "nbformat": 4,
 "nbformat_minor": 2
}
