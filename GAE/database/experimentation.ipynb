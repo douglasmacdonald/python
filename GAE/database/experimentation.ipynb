{
 "cells": [
  {
   "cell_type": "code",
   "execution_count": 14,
   "metadata": {
    "collapsed": false
   },
   "outputs": [],
   "source": [
    "import pandas as pd\n",
    "\n",
    "show_performance_information_df = pd.read_csv('show_performance_information.csv')\n",
    "show_description_df = pd.read_csv('show_description.csv')"
   ]
  },
  {
   "cell_type": "code",
   "execution_count": 15,
   "metadata": {
    "collapsed": false
   },
   "outputs": [
    {
     "data": {
      "text/html": [
       "<div>\n",
       "<table border=\"1\" class=\"dataframe\">\n",
       "  <thead>\n",
       "    <tr style=\"text-align: right;\">\n",
       "      <th></th>\n",
       "      <th>show_id</th>\n",
       "      <th>title</th>\n",
       "      <th>image</th>\n",
       "      <th>website</th>\n",
       "      <th>facebook_text</th>\n",
       "      <th>facebook_web_address</th>\n",
       "      <th>twitter</th>\n",
       "      <th>short_description</th>\n",
       "      <th>age_restrictions</th>\n",
       "      <th>videos</th>\n",
       "      <th>comments</th>\n",
       "      <th>show_description</th>\n",
       "    </tr>\n",
       "  </thead>\n",
       "  <tbody>\n",
       "    <tr>\n",
       "      <th>0</th>\n",
       "      <td>gotd</td>\n",
       "      <td>Zombie Science: Genes of the Damned</td>\n",
       "      <td>NaN</td>\n",
       "      <td>www.zombiescience.co.uk</td>\n",
       "      <td>Zombie Science on Facebook</td>\n",
       "      <td>https://www.facebook.com/zombiescience</td>\n",
       "      <td>@ZombieScience1Z</td>\n",
       "      <td>A spoof lecture exploring the science of a Zom...</td>\n",
       "      <td>This event is for over 18s only - No refunds w...</td>\n",
       "      <td>NaN</td>\n",
       "      <td>NaN</td>\n",
       "      <td>In this lecture, theoretical Zombiologist Dr. ...</td>\n",
       "    </tr>\n",
       "    <tr>\n",
       "      <th>1</th>\n",
       "      <td>wcs</td>\n",
       "      <td>Worst Case Senario</td>\n",
       "      <td>NaN</td>\n",
       "      <td>NaN</td>\n",
       "      <td>NaN</td>\n",
       "      <td>NaN</td>\n",
       "      <td>NaN</td>\n",
       "      <td>NaN</td>\n",
       "      <td>NaN</td>\n",
       "      <td>NaN</td>\n",
       "      <td>NaN</td>\n",
       "      <td>NaN</td>\n",
       "    </tr>\n",
       "    <tr>\n",
       "      <th>2</th>\n",
       "      <td>another</td>\n",
       "      <td>Another show</td>\n",
       "      <td>NaN</td>\n",
       "      <td>NaN</td>\n",
       "      <td>NaN</td>\n",
       "      <td>NaN</td>\n",
       "      <td>NaN</td>\n",
       "      <td>This is another show</td>\n",
       "      <td>NaN</td>\n",
       "      <td>NaN</td>\n",
       "      <td>NaN</td>\n",
       "      <td>NaN</td>\n",
       "    </tr>\n",
       "  </tbody>\n",
       "</table>\n",
       "</div>"
      ],
      "text/plain": [
       "   show_id                                title  image  \\\n",
       "0     gotd  Zombie Science: Genes of the Damned    NaN   \n",
       "1      wcs                   Worst Case Senario    NaN   \n",
       "2  another                         Another show    NaN   \n",
       "\n",
       "                   website               facebook_text  \\\n",
       "0  www.zombiescience.co.uk  Zombie Science on Facebook   \n",
       "1                      NaN                         NaN   \n",
       "2                      NaN                         NaN   \n",
       "\n",
       "                     facebook_web_address           twitter  \\\n",
       "0  https://www.facebook.com/zombiescience  @ZombieScience1Z   \n",
       "1                                     NaN               NaN   \n",
       "2                                     NaN               NaN   \n",
       "\n",
       "                                   short_description  \\\n",
       "0  A spoof lecture exploring the science of a Zom...   \n",
       "1                                                NaN   \n",
       "2                               This is another show   \n",
       "\n",
       "                                    age_restrictions  videos  comments  \\\n",
       "0  This event is for over 18s only - No refunds w...     NaN       NaN   \n",
       "1                                                NaN     NaN       NaN   \n",
       "2                                                NaN     NaN       NaN   \n",
       "\n",
       "                                    show_description  \n",
       "0  In this lecture, theoretical Zombiologist Dr. ...  \n",
       "1                                                NaN  \n",
       "2                                                NaN  "
      ]
     },
     "execution_count": 15,
     "metadata": {},
     "output_type": "execute_result"
    }
   ],
   "source": [
    "show_description_df"
   ]
  },
  {
   "cell_type": "code",
   "execution_count": 13,
   "metadata": {
    "collapsed": false
   },
   "outputs": [
    {
     "data": {
      "text/html": [
       "<div>\n",
       "<table border=\"1\" class=\"dataframe\">\n",
       "  <thead>\n",
       "    <tr style=\"text-align: right;\">\n",
       "      <th></th>\n",
       "      <th>id</th>\n",
       "      <th>show_id</th>\n",
       "      <th>date</th>\n",
       "      <th>doors</th>\n",
       "      <th>show_start</th>\n",
       "      <th>show_finish</th>\n",
       "      <th>general_admission_price</th>\n",
       "      <th>general_admission_face_value</th>\n",
       "      <th>concession_admission_face_price</th>\n",
       "      <th>concession_admission_face_value</th>\n",
       "      <th>venue_name</th>\n",
       "      <th>venue_address</th>\n",
       "      <th>venue_website</th>\n",
       "      <th>venue_phone</th>\n",
       "      <th>additonal_information</th>\n",
       "      <th>age_restrictions</th>\n",
       "    </tr>\n",
       "  </thead>\n",
       "  <tbody>\n",
       "    <tr>\n",
       "      <th>0</th>\n",
       "      <td>1</td>\n",
       "      <td>gotd</td>\n",
       "      <td>Sat 12 Mar</td>\n",
       "      <td>18:00:00</td>\n",
       "      <td>18:30:00</td>\n",
       "      <td>19:45:00</td>\n",
       "      <td>5.5</td>\n",
       "      <td>5</td>\n",
       "      <td>3.3</td>\n",
       "      <td>3.0</td>\n",
       "      <td>DRAM!, Glasgow</td>\n",
       "      <td>232-246 Woodlands Road, Glasgow, G3 6ND</td>\n",
       "      <td>https://www.facebook.com/dramglasgow/</td>\n",
       "      <td>0141 332 1622</td>\n",
       "      <td>NaN</td>\n",
       "      <td>This event is for over 18s only - No refunds w...</td>\n",
       "    </tr>\n",
       "    <tr>\n",
       "      <th>1</th>\n",
       "      <td>2</td>\n",
       "      <td>gotd</td>\n",
       "      <td>Sat 19 Mar</td>\n",
       "      <td>NaN</td>\n",
       "      <td>19:00:00</td>\n",
       "      <td>NaN</td>\n",
       "      <td>15.5</td>\n",
       "      <td>15</td>\n",
       "      <td>13.0</td>\n",
       "      <td>13.3</td>\n",
       "      <td>The Iron Horse, Glasgow</td>\n",
       "      <td>115 West Nile Street, Glasgow, G1 2SB</td>\n",
       "      <td>NaN</td>\n",
       "      <td>0141 332 2215</td>\n",
       "      <td>Part of British Science Week.</td>\n",
       "      <td>This event is for over 18s only - No refunds w...</td>\n",
       "    </tr>\n",
       "  </tbody>\n",
       "</table>\n",
       "</div>"
      ],
      "text/plain": [
       "   id show_id        date     doors show_start show_finish  \\\n",
       "0   1    gotd  Sat 12 Mar  18:00:00   18:30:00    19:45:00   \n",
       "1   2    gotd  Sat 19 Mar       NaN   19:00:00         NaN   \n",
       "\n",
       "   general_admission_price  general_admission_face_value  \\\n",
       "0                      5.5                             5   \n",
       "1                     15.5                            15   \n",
       "\n",
       "   concession_admission_face_price  concession_admission_face_value  \\\n",
       "0                              3.3                              3.0   \n",
       "1                             13.0                             13.3   \n",
       "\n",
       "                venue_name                            venue_address  \\\n",
       "0           DRAM!, Glasgow  232-246 Woodlands Road, Glasgow, G3 6ND   \n",
       "1  The Iron Horse, Glasgow    115 West Nile Street, Glasgow, G1 2SB   \n",
       "\n",
       "                           venue_website    venue_phone  \\\n",
       "0  https://www.facebook.com/dramglasgow/  0141 332 1622   \n",
       "1                                    NaN  0141 332 2215   \n",
       "\n",
       "           additonal_information  \\\n",
       "0                            NaN   \n",
       "1  Part of British Science Week.   \n",
       "\n",
       "                                    age_restrictions  \n",
       "0  This event is for over 18s only - No refunds w...  \n",
       "1  This event is for over 18s only - No refunds w...  "
      ]
     },
     "execution_count": 13,
     "metadata": {},
     "output_type": "execute_result"
    }
   ],
   "source": [
    "show_performance_information_df"
   ]
  },
  {
   "cell_type": "code",
   "execution_count": 5,
   "metadata": {
    "collapsed": false
   },
   "outputs": [
    {
     "ename": "ValueError",
     "evalue": "Some errors were detected !\n    Line #2 (got 14 columns instead of 12)",
     "output_type": "error",
     "traceback": [
      "\u001b[1;31m---------------------------------------------------------------------------\u001b[0m",
      "\u001b[1;31mValueError\u001b[0m                                Traceback (most recent call last)",
      "\u001b[1;32m<ipython-input-5-0cbfd224b2d5>\u001b[0m in \u001b[0;36m<module>\u001b[1;34m()\u001b[0m\n\u001b[0;32m      1\u001b[0m \u001b[1;32mimport\u001b[0m \u001b[0mnumpy\u001b[0m \u001b[1;32mas\u001b[0m \u001b[0mnp\u001b[0m\u001b[1;33m\u001b[0m\u001b[0m\n\u001b[1;32m----> 2\u001b[1;33m \u001b[0mdata\u001b[0m \u001b[1;33m=\u001b[0m \u001b[0mnp\u001b[0m\u001b[1;33m.\u001b[0m\u001b[0mgenfromtxt\u001b[0m\u001b[1;33m(\u001b[0m\u001b[1;34m'show_description.csv'\u001b[0m\u001b[1;33m,\u001b[0m \u001b[0mdelimiter\u001b[0m\u001b[1;33m=\u001b[0m\u001b[1;34m','\u001b[0m\u001b[1;33m,\u001b[0m \u001b[0mnames\u001b[0m\u001b[1;33m=\u001b[0m\u001b[0mTrue\u001b[0m\u001b[1;33m)\u001b[0m\u001b[1;33m\u001b[0m\u001b[0m\n\u001b[0m",
      "\u001b[1;32m/home/douglas/anaconda2/lib/python2.7/site-packages/numpy/lib/npyio.pyc\u001b[0m in \u001b[0;36mgenfromtxt\u001b[1;34m(fname, dtype, comments, delimiter, skip_header, skip_footer, converters, missing_values, filling_values, usecols, names, excludelist, deletechars, replace_space, autostrip, case_sensitive, defaultfmt, unpack, usemask, loose, invalid_raise, max_rows)\u001b[0m\n\u001b[0;32m   1764\u001b[0m             \u001b[1;31m# Raise an exception ?\u001b[0m\u001b[1;33m\u001b[0m\u001b[1;33m\u001b[0m\u001b[0m\n\u001b[0;32m   1765\u001b[0m             \u001b[1;32mif\u001b[0m \u001b[0minvalid_raise\u001b[0m\u001b[1;33m:\u001b[0m\u001b[1;33m\u001b[0m\u001b[0m\n\u001b[1;32m-> 1766\u001b[1;33m                 \u001b[1;32mraise\u001b[0m \u001b[0mValueError\u001b[0m\u001b[1;33m(\u001b[0m\u001b[0merrmsg\u001b[0m\u001b[1;33m)\u001b[0m\u001b[1;33m\u001b[0m\u001b[0m\n\u001b[0m\u001b[0;32m   1767\u001b[0m             \u001b[1;31m# Issue a warning ?\u001b[0m\u001b[1;33m\u001b[0m\u001b[1;33m\u001b[0m\u001b[0m\n\u001b[0;32m   1768\u001b[0m             \u001b[1;32melse\u001b[0m\u001b[1;33m:\u001b[0m\u001b[1;33m\u001b[0m\u001b[0m\n",
      "\u001b[1;31mValueError\u001b[0m: Some errors were detected !\n    Line #2 (got 14 columns instead of 12)"
     ]
    }
   ],
   "source": [
    "import numpy as np\n",
    "data = np.genfromtxt('show_description.csv', delimiter=',', names=True)"
   ]
  },
  {
   "cell_type": "code",
   "execution_count": 10,
   "metadata": {
    "collapsed": false
   },
   "outputs": [
    {
     "name": "stdout",
     "output_type": "stream",
     "text": [
      "{'website': 'www.zombiescience.co.uk', 'show_id': 'gotd', 'videos': '', 'facebook_web_address': 'https://www.facebook.com/zombiescience', 'title': 'Zombie Science: Genes of the Damned', 'age_restrictions': 'This event is for over 18s only - No refunds will be issued for under 18s.', 'image': '', 'show_description': 'In this lecture, theoretical Zombiologist Dr. Smith asks whether you know what to do when the Zombie Apocalypse occurs and you find yourself in your own real-life zombie horror film. See the  lessons we can learn from disease outbreaks through history, discover what genetic and social factors could affect susceptibility to Zombieism and find out how modern medical technology such as stem cell  technology could be used to help the survivors. The outcome of the show will be decided by the audience - how will you deal with the Damned?', 'comments': '', 'short_description': 'A spoof lecture exploring the science of a Zombieism outbreak. How will you deal with the damned?', 'facebook_text': 'Zombie Science on Facebook', 'twitter': '@ZombieScience1Z'}\n"
     ]
    }
   ],
   "source": [
    "fo = open('show_description.csv', 'r')\n",
    "dr = csv.DictReader(fo)\n",
    "print(dr.next())"
   ]
  },
  {
   "cell_type": "code",
   "execution_count": 11,
   "metadata": {
    "collapsed": false
   },
   "outputs": [
    {
     "name": "stdout",
     "output_type": "stream",
     "text": [
      "{'website': '', 'show_id': 'wcs', 'videos': '', 'facebook_web_address': '', 'title': 'Worst Case Senario', 'age_restrictions': '', 'image': '', 'show_description': '', 'comments': '', 'short_description': '', 'facebook_text': '', 'twitter': ''}\n"
     ]
    }
   ],
   "source": [
    "print(dr.next())"
   ]
  },
  {
   "cell_type": "code",
   "execution_count": 12,
   "metadata": {
    "collapsed": false
   },
   "outputs": [
    {
     "name": "stdout",
     "output_type": "stream",
     "text": [
      "{'website': '', 'show_id': 'another', 'videos': '', 'facebook_web_address': '', 'title': 'Another show', 'age_restrictions': '', 'image': '', 'show_description': '', 'comments': '', 'short_description': 'This is another show', 'facebook_text': '', 'twitter': ''}\n"
     ]
    }
   ],
   "source": [
    "print(dr.next())"
   ]
  },
  {
   "cell_type": "code",
   "execution_count": 1,
   "metadata": {
    "collapsed": false
   },
   "outputs": [],
   "source": [
    "import csv\n",
    "\n",
    "def read_csv(file_path):\n",
    "    with open(file_path, 'r') as file_object:\n",
    "        csv_reader = csv.reader(file_object)\n",
    "        csv_file_as_list = [line for line in csv_reader]\n",
    "    return csv_file_as_list\n",
    "    \n",
    "show_performance_information_list = read_csv('show_performance_information.csv')\n",
    "show_description_list = read_csv('show_description.csv')\n",
    "#read_csv('show_description.csv')"
   ]
  },
  {
   "cell_type": "code",
   "execution_count": 2,
   "metadata": {
    "collapsed": false
   },
   "outputs": [
    {
     "data": {
      "text/plain": [
       "[['id',\n",
       "  'show_id',\n",
       "  'date',\n",
       "  'doors',\n",
       "  'show_start',\n",
       "  'show_finish',\n",
       "  'general_admission_price',\n",
       "  'general_admission_face_value',\n",
       "  'concession_admission_face_price',\n",
       "  'concession_admission_face_value',\n",
       "  'venue_name',\n",
       "  'venue_address',\n",
       "  'venue_website',\n",
       "  'venue_phone',\n",
       "  'additonal_information',\n",
       "  'age_restrictions'],\n",
       " ['1',\n",
       "  'gotd',\n",
       "  'Sat 12 Mar',\n",
       "  '18:00:00',\n",
       "  '18:30:00',\n",
       "  '19:45:00',\n",
       "  '5.5',\n",
       "  '5',\n",
       "  '3.3',\n",
       "  '3',\n",
       "  'DRAM!, Glasgow',\n",
       "  '232-246 Woodlands Road, Glasgow, G3 6ND',\n",
       "  'https://www.facebook.com/dramglasgow/',\n",
       "  '0141 332 1622',\n",
       "  '',\n",
       "  'This event is for over 18s only - No refunds will be issued for under 18s.'],\n",
       " ['2',\n",
       "  'gotd',\n",
       "  'Sat 19 Mar',\n",
       "  '',\n",
       "  '19:00:00',\n",
       "  '',\n",
       "  '15.5',\n",
       "  '15',\n",
       "  '13',\n",
       "  '13.3',\n",
       "  'The Iron Horse, Glasgow',\n",
       "  '115 West Nile Street, Glasgow, G1 2SB',\n",
       "  '',\n",
       "  '0141 332 2215',\n",
       "  'Part of British Science Week.',\n",
       "  'This event is for over 18s only - No refunds will be issued for under 18s.']]"
      ]
     },
     "execution_count": 2,
     "metadata": {},
     "output_type": "execute_result"
    }
   ],
   "source": [
    "show_performance_information_list"
   ]
  },
  {
   "cell_type": "code",
   "execution_count": 7,
   "metadata": {
    "collapsed": false
   },
   "outputs": [
    {
     "data": {
      "text/plain": [
       "[['show_id',\n",
       "  'title',\n",
       "  'image',\n",
       "  'website',\n",
       "  'facebook_text',\n",
       "  'facebook_web_address',\n",
       "  'twitter',\n",
       "  'short_description',\n",
       "  'age_restrictions',\n",
       "  'videos',\n",
       "  'comments',\n",
       "  'show_description'],\n",
       " ['gotd',\n",
       "  'Zombie Science: Genes of the Damned',\n",
       "  '',\n",
       "  'www.zombiescience.co.uk',\n",
       "  'Zombie Science on Facebook',\n",
       "  'https://www.facebook.com/zombiescience',\n",
       "  '@ZombieScience1Z',\n",
       "  'A spoof lecture exploring the science of a Zombieism outbreak. How will you deal with the damned?',\n",
       "  'This event is for over 18s only - No refunds will be issued for under 18s.',\n",
       "  '',\n",
       "  '',\n",
       "  'In this lecture, theoretical Zombiologist Dr. Smith asks whether you know what to do when the Zombie Apocalypse occurs and you find yourself in your own real-life zombie horror film. See the  lessons we can learn from disease outbreaks through history, discover what genetic and social factors could affect susceptibility to Zombieism and find out how modern medical technology such as stem cell  technology could be used to help the survivors. The outcome of the show will be decided by the audience - how will you deal with the Damned?'],\n",
       " ['wcs', 'Worst Case Senario', '', '', '', '', '', '', '', '', '', ''],\n",
       " ['another',\n",
       "  'Another show',\n",
       "  '',\n",
       "  '',\n",
       "  '',\n",
       "  '',\n",
       "  '',\n",
       "  'This is another show',\n",
       "  '',\n",
       "  '',\n",
       "  '',\n",
       "  '']]"
      ]
     },
     "execution_count": 7,
     "metadata": {},
     "output_type": "execute_result"
    }
   ],
   "source": [
    "show_description_list"
   ]
  }
 ],
 "metadata": {
  "kernelspec": {
   "display_name": "Python 2",
   "language": "python",
   "name": "python2"
  },
  "language_info": {
   "codemirror_mode": {
    "name": "ipython",
    "version": 2
   },
   "file_extension": ".py",
   "mimetype": "text/x-python",
   "name": "python",
   "nbconvert_exporter": "python",
   "pygments_lexer": "ipython2",
   "version": "2.7.11"
  }
 },
 "nbformat": 4,
 "nbformat_minor": 0
}
